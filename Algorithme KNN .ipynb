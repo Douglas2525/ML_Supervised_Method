{
 "cells": [
  {
   "cell_type": "markdown",
   "metadata": {},
   "source": [
    "# KNN - TP"
   ]
  },
  {
   "cell_type": "markdown",
   "metadata": {},
   "source": [
    "#### On dispose du dataset portant sur des entreprises présentant des risques de fraude. Le dataset  est donné par trial.csv au niveau du partage. La cible est la colonne Risk."
   ]
  },
  {
   "cell_type": "markdown",
   "metadata": {},
   "source": [
    "## <font color=blue>  1. Objectives :</font> \n",
    "\n",
    "On s’intéresse à développer un modèle de prédiction de classes. Identifier d’abord les classes disponibles dans le dataset que vous avez reçu"
   ]
  },
  {
   "cell_type": "markdown",
   "metadata": {},
   "source": [
    "## <font color=blue>  2. Data explortion :</font>"
   ]
  },
  {
   "cell_type": "markdown",
   "metadata": {},
   "source": [
    "### Import Libraries"
   ]
  },
  {
   "cell_type": "code",
   "execution_count": null,
   "metadata": {},
   "outputs": [],
   "source": [
    "import numpy as np\n",
    "import pandas pd\n",
    "import matplotlib.pyplot as plt\n",
    "import seaborn as sns"
   ]
  },
  {
   "cell_type": "markdown",
   "metadata": {},
   "source": [
    "### Upload the data"
   ]
  },
  {
   "cell_type": "code",
   "execution_count": 174,
   "metadata": {},
   "outputs": [],
   "source": [
    "df = pd.read_csv('trial.csv')"
   ]
  },
  {
   "cell_type": "markdown",
   "metadata": {},
   "source": [
    "### Determination of the number of individuals and variables"
   ]
  },
  {
   "cell_type": "code",
   "execution_count": 175,
   "metadata": {},
   "outputs": [
    {
     "name": "stdout",
     "output_type": "stream",
     "text": [
      "The dataset total dimention : (776, 18)\n",
      "The dataset contains 776 rows\n",
      "The dataset contains 18 columns\n"
     ]
    }
   ],
   "source": [
    "dimention = df.shape\n",
    "nb_rows = df.shape[0]\n",
    "nb_cols = df.shape[1]\n",
    "\n",
    "print('The dataset total dimention :',dimention)\n",
    "\n",
    "print('The dataset contains',nb_rows,'rows')\n",
    "print('The dataset contains',nb_cols,'columns')"
   ]
  },
  {
   "cell_type": "markdown",
   "metadata": {},
   "source": [
    "### Data representation"
   ]
  },
  {
   "cell_type": "code",
   "execution_count": 176,
   "metadata": {},
   "outputs": [
    {
     "data": {
      "text/html": [
       "<div>\n",
       "<style scoped>\n",
       "    .dataframe tbody tr th:only-of-type {\n",
       "        vertical-align: middle;\n",
       "    }\n",
       "\n",
       "    .dataframe tbody tr th {\n",
       "        vertical-align: top;\n",
       "    }\n",
       "\n",
       "    .dataframe thead th {\n",
       "        text-align: right;\n",
       "    }\n",
       "</style>\n",
       "<table border=\"1\" class=\"dataframe\">\n",
       "  <thead>\n",
       "    <tr style=\"text-align: right;\">\n",
       "      <th></th>\n",
       "      <th>Sector_score</th>\n",
       "      <th>LOCATION_ID</th>\n",
       "      <th>PARA_A</th>\n",
       "      <th>SCORE_A</th>\n",
       "      <th>PARA_B</th>\n",
       "      <th>SCORE_B</th>\n",
       "      <th>TOTAL</th>\n",
       "      <th>numbers</th>\n",
       "      <th>Marks</th>\n",
       "      <th>Money_Value</th>\n",
       "      <th>MONEY_Marks</th>\n",
       "      <th>District</th>\n",
       "      <th>Loss</th>\n",
       "      <th>LOSS_SCORE</th>\n",
       "      <th>History</th>\n",
       "      <th>History_score</th>\n",
       "      <th>Score</th>\n",
       "      <th>Risk</th>\n",
       "    </tr>\n",
       "  </thead>\n",
       "  <tbody>\n",
       "    <tr>\n",
       "      <th>0</th>\n",
       "      <td>3.89</td>\n",
       "      <td>23</td>\n",
       "      <td>4.18</td>\n",
       "      <td>6</td>\n",
       "      <td>2.50</td>\n",
       "      <td>2</td>\n",
       "      <td>6.68</td>\n",
       "      <td>5.0</td>\n",
       "      <td>2</td>\n",
       "      <td>3.38</td>\n",
       "      <td>2</td>\n",
       "      <td>2</td>\n",
       "      <td>0</td>\n",
       "      <td>2</td>\n",
       "      <td>0</td>\n",
       "      <td>2</td>\n",
       "      <td>2.4</td>\n",
       "      <td>1</td>\n",
       "    </tr>\n",
       "    <tr>\n",
       "      <th>1</th>\n",
       "      <td>3.89</td>\n",
       "      <td>6</td>\n",
       "      <td>0.00</td>\n",
       "      <td>2</td>\n",
       "      <td>4.83</td>\n",
       "      <td>2</td>\n",
       "      <td>4.83</td>\n",
       "      <td>5.0</td>\n",
       "      <td>2</td>\n",
       "      <td>0.94</td>\n",
       "      <td>2</td>\n",
       "      <td>2</td>\n",
       "      <td>0</td>\n",
       "      <td>2</td>\n",
       "      <td>0</td>\n",
       "      <td>2</td>\n",
       "      <td>2.0</td>\n",
       "      <td>0</td>\n",
       "    </tr>\n",
       "    <tr>\n",
       "      <th>2</th>\n",
       "      <td>3.89</td>\n",
       "      <td>6</td>\n",
       "      <td>0.51</td>\n",
       "      <td>2</td>\n",
       "      <td>0.23</td>\n",
       "      <td>2</td>\n",
       "      <td>0.74</td>\n",
       "      <td>5.0</td>\n",
       "      <td>2</td>\n",
       "      <td>0.00</td>\n",
       "      <td>2</td>\n",
       "      <td>2</td>\n",
       "      <td>0</td>\n",
       "      <td>2</td>\n",
       "      <td>0</td>\n",
       "      <td>2</td>\n",
       "      <td>2.0</td>\n",
       "      <td>0</td>\n",
       "    </tr>\n",
       "    <tr>\n",
       "      <th>3</th>\n",
       "      <td>3.89</td>\n",
       "      <td>6</td>\n",
       "      <td>0.00</td>\n",
       "      <td>2</td>\n",
       "      <td>10.80</td>\n",
       "      <td>6</td>\n",
       "      <td>10.80</td>\n",
       "      <td>6.0</td>\n",
       "      <td>6</td>\n",
       "      <td>11.75</td>\n",
       "      <td>6</td>\n",
       "      <td>2</td>\n",
       "      <td>0</td>\n",
       "      <td>2</td>\n",
       "      <td>0</td>\n",
       "      <td>2</td>\n",
       "      <td>4.4</td>\n",
       "      <td>1</td>\n",
       "    </tr>\n",
       "    <tr>\n",
       "      <th>4</th>\n",
       "      <td>3.89</td>\n",
       "      <td>6</td>\n",
       "      <td>0.00</td>\n",
       "      <td>2</td>\n",
       "      <td>0.08</td>\n",
       "      <td>2</td>\n",
       "      <td>0.08</td>\n",
       "      <td>5.0</td>\n",
       "      <td>2</td>\n",
       "      <td>0.00</td>\n",
       "      <td>2</td>\n",
       "      <td>2</td>\n",
       "      <td>0</td>\n",
       "      <td>2</td>\n",
       "      <td>0</td>\n",
       "      <td>2</td>\n",
       "      <td>2.0</td>\n",
       "      <td>0</td>\n",
       "    </tr>\n",
       "    <tr>\n",
       "      <th>5</th>\n",
       "      <td>3.89</td>\n",
       "      <td>6</td>\n",
       "      <td>0.00</td>\n",
       "      <td>2</td>\n",
       "      <td>0.83</td>\n",
       "      <td>2</td>\n",
       "      <td>0.83</td>\n",
       "      <td>5.0</td>\n",
       "      <td>2</td>\n",
       "      <td>2.95</td>\n",
       "      <td>2</td>\n",
       "      <td>2</td>\n",
       "      <td>0</td>\n",
       "      <td>2</td>\n",
       "      <td>0</td>\n",
       "      <td>2</td>\n",
       "      <td>2.0</td>\n",
       "      <td>0</td>\n",
       "    </tr>\n",
       "  </tbody>\n",
       "</table>\n",
       "</div>"
      ],
      "text/plain": [
       "   Sector_score LOCATION_ID  PARA_A  SCORE_A  PARA_B  SCORE_B  TOTAL  numbers  \\\n",
       "0          3.89          23    4.18        6    2.50        2   6.68      5.0   \n",
       "1          3.89           6    0.00        2    4.83        2   4.83      5.0   \n",
       "2          3.89           6    0.51        2    0.23        2   0.74      5.0   \n",
       "3          3.89           6    0.00        2   10.80        6  10.80      6.0   \n",
       "4          3.89           6    0.00        2    0.08        2   0.08      5.0   \n",
       "5          3.89           6    0.00        2    0.83        2   0.83      5.0   \n",
       "\n",
       "   Marks  Money_Value  MONEY_Marks  District  Loss  LOSS_SCORE  History  \\\n",
       "0      2         3.38            2         2     0           2        0   \n",
       "1      2         0.94            2         2     0           2        0   \n",
       "2      2         0.00            2         2     0           2        0   \n",
       "3      6        11.75            6         2     0           2        0   \n",
       "4      2         0.00            2         2     0           2        0   \n",
       "5      2         2.95            2         2     0           2        0   \n",
       "\n",
       "   History_score  Score  Risk  \n",
       "0              2    2.4     1  \n",
       "1              2    2.0     0  \n",
       "2              2    2.0     0  \n",
       "3              2    4.4     1  \n",
       "4              2    2.0     0  \n",
       "5              2    2.0     0  "
      ]
     },
     "execution_count": 176,
     "metadata": {},
     "output_type": "execute_result"
    }
   ],
   "source": [
    "df.head(6)"
   ]
  },
  {
   "cell_type": "markdown",
   "metadata": {},
   "source": [
    "### Columns names"
   ]
  },
  {
   "cell_type": "code",
   "execution_count": 177,
   "metadata": {},
   "outputs": [
    {
     "name": "stdout",
     "output_type": "stream",
     "text": [
      "Index(['Sector_score', 'LOCATION_ID', 'PARA_A', 'SCORE_A', 'PARA_B', 'SCORE_B',\n",
      "       'TOTAL', 'numbers', 'Marks', 'Money_Value', 'MONEY_Marks', 'District',\n",
      "       'Loss', 'LOSS_SCORE', 'History', 'History_score', 'Score', 'Risk'],\n",
      "      dtype='object')\n"
     ]
    }
   ],
   "source": [
    "print(df.columns)"
   ]
  },
  {
   "cell_type": "markdown",
   "metadata": {},
   "source": [
    "### Types of variables"
   ]
  },
  {
   "cell_type": "code",
   "execution_count": 178,
   "metadata": {},
   "outputs": [
    {
     "data": {
      "text/plain": [
       "Sector_score     float64\n",
       "LOCATION_ID       object\n",
       "PARA_A           float64\n",
       "SCORE_A            int64\n",
       "PARA_B           float64\n",
       "SCORE_B            int64\n",
       "TOTAL            float64\n",
       "numbers          float64\n",
       "Marks              int64\n",
       "Money_Value      float64\n",
       "MONEY_Marks        int64\n",
       "District           int64\n",
       "Loss               int64\n",
       "LOSS_SCORE         int64\n",
       "History            int64\n",
       "History_score      int64\n",
       "Score            float64\n",
       "Risk               int64\n",
       "dtype: object"
      ]
     },
     "execution_count": 178,
     "metadata": {},
     "output_type": "execute_result"
    }
   ],
   "source": [
    "df.dtypes"
   ]
  },
  {
   "cell_type": "markdown",
   "metadata": {},
   "source": [
    "### Data info"
   ]
  },
  {
   "cell_type": "code",
   "execution_count": 179,
   "metadata": {
    "scrolled": false
   },
   "outputs": [
    {
     "name": "stdout",
     "output_type": "stream",
     "text": [
      "<class 'pandas.core.frame.DataFrame'>\n",
      "RangeIndex: 776 entries, 0 to 775\n",
      "Data columns (total 18 columns):\n",
      " #   Column         Non-Null Count  Dtype  \n",
      "---  ------         --------------  -----  \n",
      " 0   Sector_score   776 non-null    float64\n",
      " 1   LOCATION_ID    776 non-null    object \n",
      " 2   PARA_A         776 non-null    float64\n",
      " 3   SCORE_A        776 non-null    int64  \n",
      " 4   PARA_B         776 non-null    float64\n",
      " 5   SCORE_B        776 non-null    int64  \n",
      " 6   TOTAL          776 non-null    float64\n",
      " 7   numbers        776 non-null    float64\n",
      " 8   Marks          776 non-null    int64  \n",
      " 9   Money_Value    775 non-null    float64\n",
      " 10  MONEY_Marks    776 non-null    int64  \n",
      " 11  District       776 non-null    int64  \n",
      " 12  Loss           776 non-null    int64  \n",
      " 13  LOSS_SCORE     776 non-null    int64  \n",
      " 14  History        776 non-null    int64  \n",
      " 15  History_score  776 non-null    int64  \n",
      " 16  Score          776 non-null    float64\n",
      " 17  Risk           776 non-null    int64  \n",
      "dtypes: float64(7), int64(10), object(1)\n",
      "memory usage: 109.2+ KB\n"
     ]
    }
   ],
   "source": [
    "df.info()"
   ]
  },
  {
   "cell_type": "markdown",
   "metadata": {},
   "source": [
    "#### The dataset does not contan missing values. The variable Bare_Nuclei is an object because it might contain special characters"
   ]
  },
  {
   "cell_type": "code",
   "execution_count": 180,
   "metadata": {
    "scrolled": true
   },
   "outputs": [
    {
     "data": {
      "text/html": [
       "<div>\n",
       "<style scoped>\n",
       "    .dataframe tbody tr th:only-of-type {\n",
       "        vertical-align: middle;\n",
       "    }\n",
       "\n",
       "    .dataframe tbody tr th {\n",
       "        vertical-align: top;\n",
       "    }\n",
       "\n",
       "    .dataframe thead th {\n",
       "        text-align: right;\n",
       "    }\n",
       "</style>\n",
       "<table border=\"1\" class=\"dataframe\">\n",
       "  <thead>\n",
       "    <tr style=\"text-align: right;\">\n",
       "      <th></th>\n",
       "      <th>Sector_score</th>\n",
       "      <th>PARA_A</th>\n",
       "      <th>SCORE_A</th>\n",
       "      <th>PARA_B</th>\n",
       "      <th>SCORE_B</th>\n",
       "      <th>TOTAL</th>\n",
       "      <th>numbers</th>\n",
       "      <th>Marks</th>\n",
       "      <th>Money_Value</th>\n",
       "      <th>MONEY_Marks</th>\n",
       "      <th>District</th>\n",
       "      <th>Loss</th>\n",
       "      <th>LOSS_SCORE</th>\n",
       "      <th>History</th>\n",
       "      <th>History_score</th>\n",
       "      <th>Score</th>\n",
       "      <th>Risk</th>\n",
       "    </tr>\n",
       "  </thead>\n",
       "  <tbody>\n",
       "    <tr>\n",
       "      <th>count</th>\n",
       "      <td>776.000000</td>\n",
       "      <td>776.000000</td>\n",
       "      <td>776.000000</td>\n",
       "      <td>776.000000</td>\n",
       "      <td>776.000000</td>\n",
       "      <td>776.000000</td>\n",
       "      <td>776.000000</td>\n",
       "      <td>776.000000</td>\n",
       "      <td>775.000000</td>\n",
       "      <td>776.000000</td>\n",
       "      <td>776.000000</td>\n",
       "      <td>776.000000</td>\n",
       "      <td>776.000000</td>\n",
       "      <td>776.000000</td>\n",
       "      <td>776.000000</td>\n",
       "      <td>776.000000</td>\n",
       "      <td>776.000000</td>\n",
       "    </tr>\n",
       "    <tr>\n",
       "      <th>mean</th>\n",
       "      <td>20.184536</td>\n",
       "      <td>2.450194</td>\n",
       "      <td>3.512887</td>\n",
       "      <td>10.799988</td>\n",
       "      <td>3.131443</td>\n",
       "      <td>13.218481</td>\n",
       "      <td>5.067655</td>\n",
       "      <td>2.237113</td>\n",
       "      <td>14.137631</td>\n",
       "      <td>2.909794</td>\n",
       "      <td>2.505155</td>\n",
       "      <td>0.029639</td>\n",
       "      <td>2.061856</td>\n",
       "      <td>0.104381</td>\n",
       "      <td>2.167526</td>\n",
       "      <td>2.702577</td>\n",
       "      <td>0.626289</td>\n",
       "    </tr>\n",
       "    <tr>\n",
       "      <th>std</th>\n",
       "      <td>24.319017</td>\n",
       "      <td>5.678870</td>\n",
       "      <td>1.740549</td>\n",
       "      <td>50.083624</td>\n",
       "      <td>1.698042</td>\n",
       "      <td>51.312829</td>\n",
       "      <td>0.264449</td>\n",
       "      <td>0.803517</td>\n",
       "      <td>66.606519</td>\n",
       "      <td>1.597452</td>\n",
       "      <td>1.228678</td>\n",
       "      <td>0.184280</td>\n",
       "      <td>0.375080</td>\n",
       "      <td>0.531031</td>\n",
       "      <td>0.679869</td>\n",
       "      <td>0.858923</td>\n",
       "      <td>0.484100</td>\n",
       "    </tr>\n",
       "    <tr>\n",
       "      <th>min</th>\n",
       "      <td>1.850000</td>\n",
       "      <td>0.000000</td>\n",
       "      <td>2.000000</td>\n",
       "      <td>0.000000</td>\n",
       "      <td>2.000000</td>\n",
       "      <td>0.000000</td>\n",
       "      <td>5.000000</td>\n",
       "      <td>2.000000</td>\n",
       "      <td>0.000000</td>\n",
       "      <td>2.000000</td>\n",
       "      <td>2.000000</td>\n",
       "      <td>0.000000</td>\n",
       "      <td>2.000000</td>\n",
       "      <td>0.000000</td>\n",
       "      <td>2.000000</td>\n",
       "      <td>2.000000</td>\n",
       "      <td>0.000000</td>\n",
       "    </tr>\n",
       "    <tr>\n",
       "      <th>25%</th>\n",
       "      <td>2.370000</td>\n",
       "      <td>0.210000</td>\n",
       "      <td>2.000000</td>\n",
       "      <td>0.000000</td>\n",
       "      <td>2.000000</td>\n",
       "      <td>0.537500</td>\n",
       "      <td>5.000000</td>\n",
       "      <td>2.000000</td>\n",
       "      <td>0.000000</td>\n",
       "      <td>2.000000</td>\n",
       "      <td>2.000000</td>\n",
       "      <td>0.000000</td>\n",
       "      <td>2.000000</td>\n",
       "      <td>0.000000</td>\n",
       "      <td>2.000000</td>\n",
       "      <td>2.000000</td>\n",
       "      <td>0.000000</td>\n",
       "    </tr>\n",
       "    <tr>\n",
       "      <th>50%</th>\n",
       "      <td>3.890000</td>\n",
       "      <td>0.875000</td>\n",
       "      <td>2.000000</td>\n",
       "      <td>0.405000</td>\n",
       "      <td>2.000000</td>\n",
       "      <td>1.370000</td>\n",
       "      <td>5.000000</td>\n",
       "      <td>2.000000</td>\n",
       "      <td>0.090000</td>\n",
       "      <td>2.000000</td>\n",
       "      <td>2.000000</td>\n",
       "      <td>0.000000</td>\n",
       "      <td>2.000000</td>\n",
       "      <td>0.000000</td>\n",
       "      <td>2.000000</td>\n",
       "      <td>2.400000</td>\n",
       "      <td>1.000000</td>\n",
       "    </tr>\n",
       "    <tr>\n",
       "      <th>75%</th>\n",
       "      <td>55.570000</td>\n",
       "      <td>2.480000</td>\n",
       "      <td>6.000000</td>\n",
       "      <td>4.160000</td>\n",
       "      <td>4.000000</td>\n",
       "      <td>7.707500</td>\n",
       "      <td>5.000000</td>\n",
       "      <td>2.000000</td>\n",
       "      <td>5.595000</td>\n",
       "      <td>4.000000</td>\n",
       "      <td>2.000000</td>\n",
       "      <td>0.000000</td>\n",
       "      <td>2.000000</td>\n",
       "      <td>0.000000</td>\n",
       "      <td>2.000000</td>\n",
       "      <td>3.250000</td>\n",
       "      <td>1.000000</td>\n",
       "    </tr>\n",
       "    <tr>\n",
       "      <th>max</th>\n",
       "      <td>59.850000</td>\n",
       "      <td>85.000000</td>\n",
       "      <td>6.000000</td>\n",
       "      <td>1264.630000</td>\n",
       "      <td>6.000000</td>\n",
       "      <td>1268.910000</td>\n",
       "      <td>9.000000</td>\n",
       "      <td>6.000000</td>\n",
       "      <td>935.030000</td>\n",
       "      <td>6.000000</td>\n",
       "      <td>6.000000</td>\n",
       "      <td>2.000000</td>\n",
       "      <td>6.000000</td>\n",
       "      <td>9.000000</td>\n",
       "      <td>6.000000</td>\n",
       "      <td>5.200000</td>\n",
       "      <td>1.000000</td>\n",
       "    </tr>\n",
       "  </tbody>\n",
       "</table>\n",
       "</div>"
      ],
      "text/plain": [
       "       Sector_score      PARA_A     SCORE_A       PARA_B     SCORE_B  \\\n",
       "count    776.000000  776.000000  776.000000   776.000000  776.000000   \n",
       "mean      20.184536    2.450194    3.512887    10.799988    3.131443   \n",
       "std       24.319017    5.678870    1.740549    50.083624    1.698042   \n",
       "min        1.850000    0.000000    2.000000     0.000000    2.000000   \n",
       "25%        2.370000    0.210000    2.000000     0.000000    2.000000   \n",
       "50%        3.890000    0.875000    2.000000     0.405000    2.000000   \n",
       "75%       55.570000    2.480000    6.000000     4.160000    4.000000   \n",
       "max       59.850000   85.000000    6.000000  1264.630000    6.000000   \n",
       "\n",
       "             TOTAL     numbers       Marks  Money_Value  MONEY_Marks  \\\n",
       "count   776.000000  776.000000  776.000000   775.000000   776.000000   \n",
       "mean     13.218481    5.067655    2.237113    14.137631     2.909794   \n",
       "std      51.312829    0.264449    0.803517    66.606519     1.597452   \n",
       "min       0.000000    5.000000    2.000000     0.000000     2.000000   \n",
       "25%       0.537500    5.000000    2.000000     0.000000     2.000000   \n",
       "50%       1.370000    5.000000    2.000000     0.090000     2.000000   \n",
       "75%       7.707500    5.000000    2.000000     5.595000     4.000000   \n",
       "max    1268.910000    9.000000    6.000000   935.030000     6.000000   \n",
       "\n",
       "         District        Loss  LOSS_SCORE     History  History_score  \\\n",
       "count  776.000000  776.000000  776.000000  776.000000     776.000000   \n",
       "mean     2.505155    0.029639    2.061856    0.104381       2.167526   \n",
       "std      1.228678    0.184280    0.375080    0.531031       0.679869   \n",
       "min      2.000000    0.000000    2.000000    0.000000       2.000000   \n",
       "25%      2.000000    0.000000    2.000000    0.000000       2.000000   \n",
       "50%      2.000000    0.000000    2.000000    0.000000       2.000000   \n",
       "75%      2.000000    0.000000    2.000000    0.000000       2.000000   \n",
       "max      6.000000    2.000000    6.000000    9.000000       6.000000   \n",
       "\n",
       "            Score        Risk  \n",
       "count  776.000000  776.000000  \n",
       "mean     2.702577    0.626289  \n",
       "std      0.858923    0.484100  \n",
       "min      2.000000    0.000000  \n",
       "25%      2.000000    0.000000  \n",
       "50%      2.400000    1.000000  \n",
       "75%      3.250000    1.000000  \n",
       "max      5.200000    1.000000  "
      ]
     },
     "execution_count": 180,
     "metadata": {},
     "output_type": "execute_result"
    }
   ],
   "source": [
    "df.describe()"
   ]
  },
  {
   "cell_type": "markdown",
   "metadata": {},
   "source": [
    "## <font color=blue>  3. Preproccessing :</font>"
   ]
  },
  {
   "cell_type": "markdown",
   "metadata": {},
   "source": [
    "### Finding special character in the dataset"
   ]
  },
  {
   "cell_type": "code",
   "execution_count": 158,
   "metadata": {
    "scrolled": true
   },
   "outputs": [
    {
     "name": "stdout",
     "output_type": "stream",
     "text": [
      "     id_number  Clump_Thickness  Uniformity_Cell_Size  Uniformity_Cell_Shape  \\\n",
      "23     1057013                8                     4                      5   \n",
      "40     1096800                6                     6                      6   \n",
      "139    1183246                1                     1                      1   \n",
      "145    1184840                1                     1                      3   \n",
      "158    1193683                1                     1                      2   \n",
      "164    1197510                5                     1                      1   \n",
      "235    1241232                3                     1                      4   \n",
      "249     169356                3                     1                      1   \n",
      "275     432809                3                     1                      3   \n",
      "292     563649                8                     8                      8   \n",
      "294     606140                1                     1                      1   \n",
      "297      61634                5                     4                      3   \n",
      "315     704168                4                     6                      5   \n",
      "321     733639                3                     1                      1   \n",
      "411    1238464                1                     1                      1   \n",
      "617    1057067                1                     1                      1   \n",
      "\n",
      "     Marginal_Adhesion  Single_Epithelial_Cell_Size Bare_Nuclei  \\\n",
      "23                   1                            2               \n",
      "40                   9                            6               \n",
      "139                  1                            1               \n",
      "145                  1                            2               \n",
      "158                  1                            3               \n",
      "164                  1                            2               \n",
      "235                  1                            2               \n",
      "249                  1                            2               \n",
      "275                  1                            2               \n",
      "292                  1                            2               \n",
      "294                  1                            2               \n",
      "297                  1                            2               \n",
      "315                  6                            7               \n",
      "321                  1                            2               \n",
      "411                  1                            1               \n",
      "617                  1                            1               \n",
      "\n",
      "     Bland_Chromatin  Normal_Nucleoli  Mitoses  Class  \n",
      "23                 7                3        1      4  \n",
      "40                 7                8        1      2  \n",
      "139                2                1        1      2  \n",
      "145                2                1        1      2  \n",
      "158                1                1        1      2  \n",
      "164                3                1        1      2  \n",
      "235                3                1        1      2  \n",
      "249                3                1        1      2  \n",
      "275                2                1        1      2  \n",
      "292                6               10        1      4  \n",
      "294                2                1        1      2  \n",
      "297                2                3        1      2  \n",
      "315                4                9        1      2  \n",
      "321                3                1        1      2  \n",
      "411                2                1        1      2  \n",
      "617                1                1        1      2  \n"
     ]
    }
   ],
   "source": [
    "mask = df.Bare_Nuclei == ''\n",
    "\n",
    "print(df.loc[mask])"
   ]
  },
  {
   "cell_type": "code",
   "execution_count": 132,
   "metadata": {},
   "outputs": [],
   "source": [
    "spec_chars = [\"!\",'\"',\"#\",\"%\",\"&\",\"'\",\"(\",\")\",\n",
    "              \"*\",\"+\",\",\",\"-\",\".\",\"/\",\":\",\";\",\"<\",\n",
    "              \"=\",\">\",\"?\",\"@\",\"[\",\"\\\\\",\"]\",\"^\",\"_\",\n",
    "              \"`\",\"{\",\"|\",\"}\",\"~\",\"–\"]\n",
    "for char in spec_chars:\n",
    "    df['Bare_Nuclei'] = df['Bare_Nuclei'].str.replace(char, \"\")"
   ]
  },
  {
   "cell_type": "code",
   "execution_count": 173,
   "metadata": {},
   "outputs": [],
   "source": [
    "# converting dtype to string \n",
    "df[\"Bare_Nuclei\"]= df[\"Bare_Nuclei\"].astype(str) \n",
    "# removing '.' \n",
    "df[\"Bare_Nuclei\"]= df[\"Bare_Nuclei\"].str.replace(\"?\",\" \") \n"
   ]
  },
  {
   "cell_type": "code",
   "execution_count": 172,
   "metadata": {},
   "outputs": [
    {
     "data": {
      "text/html": [
       "<style  type=\"text/css\" >\n",
       "</style><table id=\"T_c2e6e3df_61bf_11eb_8b88_98fa9be2508b\" ><thead>    <tr>        <th class=\"blank level0\" ></th>        <th class=\"col_heading level0 col0\" >id_number</th>        <th class=\"col_heading level0 col1\" >Clump_Thickness</th>        <th class=\"col_heading level0 col2\" >Uniformity_Cell_Size</th>        <th class=\"col_heading level0 col3\" >Uniformity_Cell_Shape</th>        <th class=\"col_heading level0 col4\" >Marginal_Adhesion</th>        <th class=\"col_heading level0 col5\" >Single_Epithelial_Cell_Size</th>        <th class=\"col_heading level0 col6\" >Bare_Nuclei</th>        <th class=\"col_heading level0 col7\" >Bland_Chromatin</th>        <th class=\"col_heading level0 col8\" >Normal_Nucleoli</th>        <th class=\"col_heading level0 col9\" >Mitoses</th>        <th class=\"col_heading level0 col10\" >Class</th>    </tr></thead><tbody>\n",
       "        </tbody></table>"
      ],
      "text/plain": [
       "<pandas.io.formats.style.Styler at 0x1648eb680a0>"
      ]
     },
     "metadata": {},
     "output_type": "display_data"
    }
   ],
   "source": []
  },
  {
   "cell_type": "markdown",
   "metadata": {},
   "source": [
    "### Checking NaN"
   ]
  },
  {
   "cell_type": "code",
   "execution_count": 167,
   "metadata": {
    "scrolled": true
   },
   "outputs": [
    {
     "data": {
      "text/plain": [
       "<matplotlib.axes._subplots.AxesSubplot at 0x1648ea94970>"
      ]
     },
     "execution_count": 167,
     "metadata": {},
     "output_type": "execute_result"
    },
    {
     "data": {
      "image/png": "[encoded data removed]",
      "text/plain": [
       "<Figure size 432x288 with 2 Axes>"
      ]
     },
     "metadata": {
      "needs_background": "light"
     },
     "output_type": "display_data"
    }
   ],
   "source": [
    "sns.heatmap(df.isnull(), cmap='viridis')"
   ]
  },
  {
   "cell_type": "markdown",
   "metadata": {},
   "source": [
    "### Checking empty information in varaibles"
   ]
  },
  {
   "cell_type": "code",
   "execution_count": 168,
   "metadata": {
    "scrolled": true
   },
   "outputs": [
    {
     "name": "stdout",
     "output_type": "stream",
     "text": [
      "     id_number  Clump_Thickness  Uniformity_Cell_Size  Uniformity_Cell_Shape  \\\n",
      "23     1057013                8                     4                      5   \n",
      "40     1096800                6                     6                      6   \n",
      "617    1057067                1                     1                      1   \n",
      "\n",
      "     Marginal_Adhesion  Single_Epithelial_Cell_Size Bare_Nuclei  \\\n",
      "23                   1                            2               \n",
      "40                   9                            6               \n",
      "617                  1                            1               \n",
      "\n",
      "     Bland_Chromatin  Normal_Nucleoli  Mitoses  Class  \n",
      "23                 7                3        1      4  \n",
      "40                 7                8        1      2  \n",
      "617                1                1        1      2  \n"
     ]
    }
   ],
   "source": [
    "mask1 = df.id_number.isin([1057013,1096800,1057067])\n",
    "print(df.loc[mask1])"
   ]
  },
  {
   "cell_type": "code",
   "execution_count": null,
   "metadata": {},
   "outputs": [],
   "source": [
    "#### The replacement made in the previous step created NaN"
   ]
  },
  {
   "cell_type": "markdown",
   "metadata": {},
   "source": [
    "### Data cleaning "
   ]
  },
  {
   "cell_type": "code",
   "execution_count": 169,
   "metadata": {},
   "outputs": [],
   "source": [
    "# we need to transform the type of the variable Bare_Nuclei to numeric\n",
    "\n",
    "# convert column \"a\" of a DataFrame\n",
    "#df = pd.to_numeric(df,downcast='integer')\n",
    "\n",
    "#df['Bare_Nuclei'] = df['Bare_Nuclei'].astype(int64)\n",
    "\n",
    "#df['Bare_Nuclei'].astype('int')"
   ]
  },
  {
   "cell_type": "code",
   "execution_count": 136,
   "metadata": {
    "scrolled": true
   },
   "outputs": [
    {
     "name": "stdout",
     "output_type": "stream",
     "text": [
      "<class 'pandas.core.frame.DataFrame'>\n",
      "RangeIndex: 699 entries, 0 to 698\n",
      "Data columns (total 11 columns):\n",
      " #   Column                       Non-Null Count  Dtype \n",
      "---  ------                       --------------  ----- \n",
      " 0   id_number                    699 non-null    int64 \n",
      " 1   Clump_Thickness              699 non-null    int64 \n",
      " 2   Uniformity_Cell_Size         699 non-null    int64 \n",
      " 3   Uniformity_Cell_Shape        699 non-null    int64 \n",
      " 4   Marginal_Adhesion            699 non-null    int64 \n",
      " 5   Single_Epithelial_Cell_Size  699 non-null    int64 \n",
      " 6   Bare_Nuclei                  699 non-null    object\n",
      " 7   Bland_Chromatin              699 non-null    int64 \n",
      " 8   Normal_Nucleoli              699 non-null    int64 \n",
      " 9   Mitoses                      699 non-null    int64 \n",
      " 10  Class                        699 non-null    int64 \n",
      "dtypes: int64(10), object(1)\n",
      "memory usage: 60.2+ KB\n"
     ]
    }
   ],
   "source": [
    "df.info()"
   ]
  },
  {
   "cell_type": "markdown",
   "metadata": {},
   "source": [
    "### Checking missing values"
   ]
  },
  {
   "cell_type": "code",
   "execution_count": 137,
   "metadata": {
    "scrolled": true
   },
   "outputs": [
    {
     "data": {
      "text/html": [
       "<style  type=\"text/css\" >\n",
       "</style><table id=\"T_b1802e45_61a5_11eb_a726_98fa9be2508b\" ><thead>    <tr>        <th class=\"blank level0\" ></th>        <th class=\"col_heading level0 col0\" >id_number</th>        <th class=\"col_heading level0 col1\" >Clump_Thickness</th>        <th class=\"col_heading level0 col2\" >Uniformity_Cell_Size</th>        <th class=\"col_heading level0 col3\" >Uniformity_Cell_Shape</th>        <th class=\"col_heading level0 col4\" >Marginal_Adhesion</th>        <th class=\"col_heading level0 col5\" >Single_Epithelial_Cell_Size</th>        <th class=\"col_heading level0 col6\" >Bare_Nuclei</th>        <th class=\"col_heading level0 col7\" >Bland_Chromatin</th>        <th class=\"col_heading level0 col8\" >Normal_Nucleoli</th>        <th class=\"col_heading level0 col9\" >Mitoses</th>        <th class=\"col_heading level0 col10\" >Class</th>    </tr></thead><tbody>\n",
       "        </tbody></table>"
      ],
      "text/plain": [
       "<pandas.io.formats.style.Styler at 0x1648d8c04c0>"
      ]
     },
     "metadata": {},
     "output_type": "display_data"
    }
   ],
   "source": [
    "display(df[df.isna().any(axis=1)].style.highlight_null('yellow'))"
   ]
  },
  {
   "cell_type": "code",
   "execution_count": 112,
   "metadata": {},
   "outputs": [],
   "source": [
    "NaN_Rows_Ids = df[df.isna().any(axis=1)].index"
   ]
  },
  {
   "cell_type": "markdown",
   "metadata": {},
   "source": [
    "### Replace missing values"
   ]
  },
  {
   "cell_type": "code",
   "execution_count": 113,
   "metadata": {},
   "outputs": [],
   "source": [
    "df1 = df.copy()\n",
    "df1ImputeMediane = df1.fillna(df.median())"
   ]
  },
  {
   "cell_type": "code",
   "execution_count": 114,
   "metadata": {},
   "outputs": [
    {
     "data": {
      "text/html": [
       "<style  type=\"text/css\" >\n",
       "    #T_d8339a6a_61a3_11eb_817d_98fa9be2508brow0_col6 {\n",
       "            background-color:  yellow;\n",
       "        }    #T_d8339a6a_61a3_11eb_817d_98fa9be2508brow1_col6 {\n",
       "            background-color:  yellow;\n",
       "        }    #T_d8339a6a_61a3_11eb_817d_98fa9be2508brow2_col6 {\n",
       "            background-color:  yellow;\n",
       "        }    #T_d8339a6a_61a3_11eb_817d_98fa9be2508brow3_col6 {\n",
       "            background-color:  yellow;\n",
       "        }    #T_d8339a6a_61a3_11eb_817d_98fa9be2508brow4_col6 {\n",
       "            background-color:  yellow;\n",
       "        }    #T_d8339a6a_61a3_11eb_817d_98fa9be2508brow5_col6 {\n",
       "            background-color:  yellow;\n",
       "        }    #T_d8339a6a_61a3_11eb_817d_98fa9be2508brow6_col6 {\n",
       "            background-color:  yellow;\n",
       "        }    #T_d8339a6a_61a3_11eb_817d_98fa9be2508brow7_col6 {\n",
       "            background-color:  yellow;\n",
       "        }    #T_d8339a6a_61a3_11eb_817d_98fa9be2508brow8_col6 {\n",
       "            background-color:  yellow;\n",
       "        }    #T_d8339a6a_61a3_11eb_817d_98fa9be2508brow9_col6 {\n",
       "            background-color:  yellow;\n",
       "        }    #T_d8339a6a_61a3_11eb_817d_98fa9be2508brow10_col6 {\n",
       "            background-color:  yellow;\n",
       "        }    #T_d8339a6a_61a3_11eb_817d_98fa9be2508brow11_col6 {\n",
       "            background-color:  yellow;\n",
       "        }    #T_d8339a6a_61a3_11eb_817d_98fa9be2508brow12_col6 {\n",
       "            background-color:  yellow;\n",
       "        }    #T_d8339a6a_61a3_11eb_817d_98fa9be2508brow13_col6 {\n",
       "            background-color:  yellow;\n",
       "        }    #T_d8339a6a_61a3_11eb_817d_98fa9be2508brow14_col6 {\n",
       "            background-color:  yellow;\n",
       "        }    #T_d8339a6a_61a3_11eb_817d_98fa9be2508brow15_col6 {\n",
       "            background-color:  yellow;\n",
       "        }</style><table id=\"T_d8339a6a_61a3_11eb_817d_98fa9be2508b\" ><thead>    <tr>        <th class=\"blank level0\" ></th>        <th class=\"col_heading level0 col0\" >id_number</th>        <th class=\"col_heading level0 col1\" >Clump_Thickness</th>        <th class=\"col_heading level0 col2\" >Uniformity_Cell_Size</th>        <th class=\"col_heading level0 col3\" >Uniformity_Cell_Shape</th>        <th class=\"col_heading level0 col4\" >Marginal_Adhesion</th>        <th class=\"col_heading level0 col5\" >Single_Epithelial_Cell_Size</th>        <th class=\"col_heading level0 col6\" >Bare_Nuclei</th>        <th class=\"col_heading level0 col7\" >Bland_Chromatin</th>        <th class=\"col_heading level0 col8\" >Normal_Nucleoli</th>        <th class=\"col_heading level0 col9\" >Mitoses</th>        <th class=\"col_heading level0 col10\" >Class</th>    </tr></thead><tbody>\n",
       "                <tr>\n",
       "                        <th id=\"T_d8339a6a_61a3_11eb_817d_98fa9be2508blevel0_row0\" class=\"row_heading level0 row0\" >23</th>\n",
       "                        <td id=\"T_d8339a6a_61a3_11eb_817d_98fa9be2508brow0_col0\" class=\"data row0 col0\" >1057013</td>\n",
       "                        <td id=\"T_d8339a6a_61a3_11eb_817d_98fa9be2508brow0_col1\" class=\"data row0 col1\" >8</td>\n",
       "                        <td id=\"T_d8339a6a_61a3_11eb_817d_98fa9be2508brow0_col2\" class=\"data row0 col2\" >4</td>\n",
       "                        <td id=\"T_d8339a6a_61a3_11eb_817d_98fa9be2508brow0_col3\" class=\"data row0 col3\" >5</td>\n",
       "                        <td id=\"T_d8339a6a_61a3_11eb_817d_98fa9be2508brow0_col4\" class=\"data row0 col4\" >1</td>\n",
       "                        <td id=\"T_d8339a6a_61a3_11eb_817d_98fa9be2508brow0_col5\" class=\"data row0 col5\" >2</td>\n",
       "                        <td id=\"T_d8339a6a_61a3_11eb_817d_98fa9be2508brow0_col6\" class=\"data row0 col6\" >nan</td>\n",
       "                        <td id=\"T_d8339a6a_61a3_11eb_817d_98fa9be2508brow0_col7\" class=\"data row0 col7\" >7</td>\n",
       "                        <td id=\"T_d8339a6a_61a3_11eb_817d_98fa9be2508brow0_col8\" class=\"data row0 col8\" >3</td>\n",
       "                        <td id=\"T_d8339a6a_61a3_11eb_817d_98fa9be2508brow0_col9\" class=\"data row0 col9\" >1</td>\n",
       "                        <td id=\"T_d8339a6a_61a3_11eb_817d_98fa9be2508brow0_col10\" class=\"data row0 col10\" >4</td>\n",
       "            </tr>\n",
       "            <tr>\n",
       "                        <th id=\"T_d8339a6a_61a3_11eb_817d_98fa9be2508blevel0_row1\" class=\"row_heading level0 row1\" >40</th>\n",
       "                        <td id=\"T_d8339a6a_61a3_11eb_817d_98fa9be2508brow1_col0\" class=\"data row1 col0\" >1096800</td>\n",
       "                        <td id=\"T_d8339a6a_61a3_11eb_817d_98fa9be2508brow1_col1\" class=\"data row1 col1\" >6</td>\n",
       "                        <td id=\"T_d8339a6a_61a3_11eb_817d_98fa9be2508brow1_col2\" class=\"data row1 col2\" >6</td>\n",
       "                        <td id=\"T_d8339a6a_61a3_11eb_817d_98fa9be2508brow1_col3\" class=\"data row1 col3\" >6</td>\n",
       "                        <td id=\"T_d8339a6a_61a3_11eb_817d_98fa9be2508brow1_col4\" class=\"data row1 col4\" >9</td>\n",
       "                        <td id=\"T_d8339a6a_61a3_11eb_817d_98fa9be2508brow1_col5\" class=\"data row1 col5\" >6</td>\n",
       "                        <td id=\"T_d8339a6a_61a3_11eb_817d_98fa9be2508brow1_col6\" class=\"data row1 col6\" >nan</td>\n",
       "                        <td id=\"T_d8339a6a_61a3_11eb_817d_98fa9be2508brow1_col7\" class=\"data row1 col7\" >7</td>\n",
       "                        <td id=\"T_d8339a6a_61a3_11eb_817d_98fa9be2508brow1_col8\" class=\"data row1 col8\" >8</td>\n",
       "                        <td id=\"T_d8339a6a_61a3_11eb_817d_98fa9be2508brow1_col9\" class=\"data row1 col9\" >1</td>\n",
       "                        <td id=\"T_d8339a6a_61a3_11eb_817d_98fa9be2508brow1_col10\" class=\"data row1 col10\" >2</td>\n",
       "            </tr>\n",
       "            <tr>\n",
       "                        <th id=\"T_d8339a6a_61a3_11eb_817d_98fa9be2508blevel0_row2\" class=\"row_heading level0 row2\" >139</th>\n",
       "                        <td id=\"T_d8339a6a_61a3_11eb_817d_98fa9be2508brow2_col0\" class=\"data row2 col0\" >1183246</td>\n",
       "                        <td id=\"T_d8339a6a_61a3_11eb_817d_98fa9be2508brow2_col1\" class=\"data row2 col1\" >1</td>\n",
       "                        <td id=\"T_d8339a6a_61a3_11eb_817d_98fa9be2508brow2_col2\" class=\"data row2 col2\" >1</td>\n",
       "                        <td id=\"T_d8339a6a_61a3_11eb_817d_98fa9be2508brow2_col3\" class=\"data row2 col3\" >1</td>\n",
       "                        <td id=\"T_d8339a6a_61a3_11eb_817d_98fa9be2508brow2_col4\" class=\"data row2 col4\" >1</td>\n",
       "                        <td id=\"T_d8339a6a_61a3_11eb_817d_98fa9be2508brow2_col5\" class=\"data row2 col5\" >1</td>\n",
       "                        <td id=\"T_d8339a6a_61a3_11eb_817d_98fa9be2508brow2_col6\" class=\"data row2 col6\" >nan</td>\n",
       "                        <td id=\"T_d8339a6a_61a3_11eb_817d_98fa9be2508brow2_col7\" class=\"data row2 col7\" >2</td>\n",
       "                        <td id=\"T_d8339a6a_61a3_11eb_817d_98fa9be2508brow2_col8\" class=\"data row2 col8\" >1</td>\n",
       "                        <td id=\"T_d8339a6a_61a3_11eb_817d_98fa9be2508brow2_col9\" class=\"data row2 col9\" >1</td>\n",
       "                        <td id=\"T_d8339a6a_61a3_11eb_817d_98fa9be2508brow2_col10\" class=\"data row2 col10\" >2</td>\n",
       "            </tr>\n",
       "            <tr>\n",
       "                        <th id=\"T_d8339a6a_61a3_11eb_817d_98fa9be2508blevel0_row3\" class=\"row_heading level0 row3\" >145</th>\n",
       "                        <td id=\"T_d8339a6a_61a3_11eb_817d_98fa9be2508brow3_col0\" class=\"data row3 col0\" >1184840</td>\n",
       "                        <td id=\"T_d8339a6a_61a3_11eb_817d_98fa9be2508brow3_col1\" class=\"data row3 col1\" >1</td>\n",
       "                        <td id=\"T_d8339a6a_61a3_11eb_817d_98fa9be2508brow3_col2\" class=\"data row3 col2\" >1</td>\n",
       "                        <td id=\"T_d8339a6a_61a3_11eb_817d_98fa9be2508brow3_col3\" class=\"data row3 col3\" >3</td>\n",
       "                        <td id=\"T_d8339a6a_61a3_11eb_817d_98fa9be2508brow3_col4\" class=\"data row3 col4\" >1</td>\n",
       "                        <td id=\"T_d8339a6a_61a3_11eb_817d_98fa9be2508brow3_col5\" class=\"data row3 col5\" >2</td>\n",
       "                        <td id=\"T_d8339a6a_61a3_11eb_817d_98fa9be2508brow3_col6\" class=\"data row3 col6\" >nan</td>\n",
       "                        <td id=\"T_d8339a6a_61a3_11eb_817d_98fa9be2508brow3_col7\" class=\"data row3 col7\" >2</td>\n",
       "                        <td id=\"T_d8339a6a_61a3_11eb_817d_98fa9be2508brow3_col8\" class=\"data row3 col8\" >1</td>\n",
       "                        <td id=\"T_d8339a6a_61a3_11eb_817d_98fa9be2508brow3_col9\" class=\"data row3 col9\" >1</td>\n",
       "                        <td id=\"T_d8339a6a_61a3_11eb_817d_98fa9be2508brow3_col10\" class=\"data row3 col10\" >2</td>\n",
       "            </tr>\n",
       "            <tr>\n",
       "                        <th id=\"T_d8339a6a_61a3_11eb_817d_98fa9be2508blevel0_row4\" class=\"row_heading level0 row4\" >158</th>\n",
       "                        <td id=\"T_d8339a6a_61a3_11eb_817d_98fa9be2508brow4_col0\" class=\"data row4 col0\" >1193683</td>\n",
       "                        <td id=\"T_d8339a6a_61a3_11eb_817d_98fa9be2508brow4_col1\" class=\"data row4 col1\" >1</td>\n",
       "                        <td id=\"T_d8339a6a_61a3_11eb_817d_98fa9be2508brow4_col2\" class=\"data row4 col2\" >1</td>\n",
       "                        <td id=\"T_d8339a6a_61a3_11eb_817d_98fa9be2508brow4_col3\" class=\"data row4 col3\" >2</td>\n",
       "                        <td id=\"T_d8339a6a_61a3_11eb_817d_98fa9be2508brow4_col4\" class=\"data row4 col4\" >1</td>\n",
       "                        <td id=\"T_d8339a6a_61a3_11eb_817d_98fa9be2508brow4_col5\" class=\"data row4 col5\" >3</td>\n",
       "                        <td id=\"T_d8339a6a_61a3_11eb_817d_98fa9be2508brow4_col6\" class=\"data row4 col6\" >nan</td>\n",
       "                        <td id=\"T_d8339a6a_61a3_11eb_817d_98fa9be2508brow4_col7\" class=\"data row4 col7\" >1</td>\n",
       "                        <td id=\"T_d8339a6a_61a3_11eb_817d_98fa9be2508brow4_col8\" class=\"data row4 col8\" >1</td>\n",
       "                        <td id=\"T_d8339a6a_61a3_11eb_817d_98fa9be2508brow4_col9\" class=\"data row4 col9\" >1</td>\n",
       "                        <td id=\"T_d8339a6a_61a3_11eb_817d_98fa9be2508brow4_col10\" class=\"data row4 col10\" >2</td>\n",
       "            </tr>\n",
       "            <tr>\n",
       "                        <th id=\"T_d8339a6a_61a3_11eb_817d_98fa9be2508blevel0_row5\" class=\"row_heading level0 row5\" >164</th>\n",
       "                        <td id=\"T_d8339a6a_61a3_11eb_817d_98fa9be2508brow5_col0\" class=\"data row5 col0\" >1197510</td>\n",
       "                        <td id=\"T_d8339a6a_61a3_11eb_817d_98fa9be2508brow5_col1\" class=\"data row5 col1\" >5</td>\n",
       "                        <td id=\"T_d8339a6a_61a3_11eb_817d_98fa9be2508brow5_col2\" class=\"data row5 col2\" >1</td>\n",
       "                        <td id=\"T_d8339a6a_61a3_11eb_817d_98fa9be2508brow5_col3\" class=\"data row5 col3\" >1</td>\n",
       "                        <td id=\"T_d8339a6a_61a3_11eb_817d_98fa9be2508brow5_col4\" class=\"data row5 col4\" >1</td>\n",
       "                        <td id=\"T_d8339a6a_61a3_11eb_817d_98fa9be2508brow5_col5\" class=\"data row5 col5\" >2</td>\n",
       "                        <td id=\"T_d8339a6a_61a3_11eb_817d_98fa9be2508brow5_col6\" class=\"data row5 col6\" >nan</td>\n",
       "                        <td id=\"T_d8339a6a_61a3_11eb_817d_98fa9be2508brow5_col7\" class=\"data row5 col7\" >3</td>\n",
       "                        <td id=\"T_d8339a6a_61a3_11eb_817d_98fa9be2508brow5_col8\" class=\"data row5 col8\" >1</td>\n",
       "                        <td id=\"T_d8339a6a_61a3_11eb_817d_98fa9be2508brow5_col9\" class=\"data row5 col9\" >1</td>\n",
       "                        <td id=\"T_d8339a6a_61a3_11eb_817d_98fa9be2508brow5_col10\" class=\"data row5 col10\" >2</td>\n",
       "            </tr>\n",
       "            <tr>\n",
       "                        <th id=\"T_d8339a6a_61a3_11eb_817d_98fa9be2508blevel0_row6\" class=\"row_heading level0 row6\" >235</th>\n",
       "                        <td id=\"T_d8339a6a_61a3_11eb_817d_98fa9be2508brow6_col0\" class=\"data row6 col0\" >1241232</td>\n",
       "                        <td id=\"T_d8339a6a_61a3_11eb_817d_98fa9be2508brow6_col1\" class=\"data row6 col1\" >3</td>\n",
       "                        <td id=\"T_d8339a6a_61a3_11eb_817d_98fa9be2508brow6_col2\" class=\"data row6 col2\" >1</td>\n",
       "                        <td id=\"T_d8339a6a_61a3_11eb_817d_98fa9be2508brow6_col3\" class=\"data row6 col3\" >4</td>\n",
       "                        <td id=\"T_d8339a6a_61a3_11eb_817d_98fa9be2508brow6_col4\" class=\"data row6 col4\" >1</td>\n",
       "                        <td id=\"T_d8339a6a_61a3_11eb_817d_98fa9be2508brow6_col5\" class=\"data row6 col5\" >2</td>\n",
       "                        <td id=\"T_d8339a6a_61a3_11eb_817d_98fa9be2508brow6_col6\" class=\"data row6 col6\" >nan</td>\n",
       "                        <td id=\"T_d8339a6a_61a3_11eb_817d_98fa9be2508brow6_col7\" class=\"data row6 col7\" >3</td>\n",
       "                        <td id=\"T_d8339a6a_61a3_11eb_817d_98fa9be2508brow6_col8\" class=\"data row6 col8\" >1</td>\n",
       "                        <td id=\"T_d8339a6a_61a3_11eb_817d_98fa9be2508brow6_col9\" class=\"data row6 col9\" >1</td>\n",
       "                        <td id=\"T_d8339a6a_61a3_11eb_817d_98fa9be2508brow6_col10\" class=\"data row6 col10\" >2</td>\n",
       "            </tr>\n",
       "            <tr>\n",
       "                        <th id=\"T_d8339a6a_61a3_11eb_817d_98fa9be2508blevel0_row7\" class=\"row_heading level0 row7\" >249</th>\n",
       "                        <td id=\"T_d8339a6a_61a3_11eb_817d_98fa9be2508brow7_col0\" class=\"data row7 col0\" >169356</td>\n",
       "                        <td id=\"T_d8339a6a_61a3_11eb_817d_98fa9be2508brow7_col1\" class=\"data row7 col1\" >3</td>\n",
       "                        <td id=\"T_d8339a6a_61a3_11eb_817d_98fa9be2508brow7_col2\" class=\"data row7 col2\" >1</td>\n",
       "                        <td id=\"T_d8339a6a_61a3_11eb_817d_98fa9be2508brow7_col3\" class=\"data row7 col3\" >1</td>\n",
       "                        <td id=\"T_d8339a6a_61a3_11eb_817d_98fa9be2508brow7_col4\" class=\"data row7 col4\" >1</td>\n",
       "                        <td id=\"T_d8339a6a_61a3_11eb_817d_98fa9be2508brow7_col5\" class=\"data row7 col5\" >2</td>\n",
       "                        <td id=\"T_d8339a6a_61a3_11eb_817d_98fa9be2508brow7_col6\" class=\"data row7 col6\" >nan</td>\n",
       "                        <td id=\"T_d8339a6a_61a3_11eb_817d_98fa9be2508brow7_col7\" class=\"data row7 col7\" >3</td>\n",
       "                        <td id=\"T_d8339a6a_61a3_11eb_817d_98fa9be2508brow7_col8\" class=\"data row7 col8\" >1</td>\n",
       "                        <td id=\"T_d8339a6a_61a3_11eb_817d_98fa9be2508brow7_col9\" class=\"data row7 col9\" >1</td>\n",
       "                        <td id=\"T_d8339a6a_61a3_11eb_817d_98fa9be2508brow7_col10\" class=\"data row7 col10\" >2</td>\n",
       "            </tr>\n",
       "            <tr>\n",
       "                        <th id=\"T_d8339a6a_61a3_11eb_817d_98fa9be2508blevel0_row8\" class=\"row_heading level0 row8\" >275</th>\n",
       "                        <td id=\"T_d8339a6a_61a3_11eb_817d_98fa9be2508brow8_col0\" class=\"data row8 col0\" >432809</td>\n",
       "                        <td id=\"T_d8339a6a_61a3_11eb_817d_98fa9be2508brow8_col1\" class=\"data row8 col1\" >3</td>\n",
       "                        <td id=\"T_d8339a6a_61a3_11eb_817d_98fa9be2508brow8_col2\" class=\"data row8 col2\" >1</td>\n",
       "                        <td id=\"T_d8339a6a_61a3_11eb_817d_98fa9be2508brow8_col3\" class=\"data row8 col3\" >3</td>\n",
       "                        <td id=\"T_d8339a6a_61a3_11eb_817d_98fa9be2508brow8_col4\" class=\"data row8 col4\" >1</td>\n",
       "                        <td id=\"T_d8339a6a_61a3_11eb_817d_98fa9be2508brow8_col5\" class=\"data row8 col5\" >2</td>\n",
       "                        <td id=\"T_d8339a6a_61a3_11eb_817d_98fa9be2508brow8_col6\" class=\"data row8 col6\" >nan</td>\n",
       "                        <td id=\"T_d8339a6a_61a3_11eb_817d_98fa9be2508brow8_col7\" class=\"data row8 col7\" >2</td>\n",
       "                        <td id=\"T_d8339a6a_61a3_11eb_817d_98fa9be2508brow8_col8\" class=\"data row8 col8\" >1</td>\n",
       "                        <td id=\"T_d8339a6a_61a3_11eb_817d_98fa9be2508brow8_col9\" class=\"data row8 col9\" >1</td>\n",
       "                        <td id=\"T_d8339a6a_61a3_11eb_817d_98fa9be2508brow8_col10\" class=\"data row8 col10\" >2</td>\n",
       "            </tr>\n",
       "            <tr>\n",
       "                        <th id=\"T_d8339a6a_61a3_11eb_817d_98fa9be2508blevel0_row9\" class=\"row_heading level0 row9\" >292</th>\n",
       "                        <td id=\"T_d8339a6a_61a3_11eb_817d_98fa9be2508brow9_col0\" class=\"data row9 col0\" >563649</td>\n",
       "                        <td id=\"T_d8339a6a_61a3_11eb_817d_98fa9be2508brow9_col1\" class=\"data row9 col1\" >8</td>\n",
       "                        <td id=\"T_d8339a6a_61a3_11eb_817d_98fa9be2508brow9_col2\" class=\"data row9 col2\" >8</td>\n",
       "                        <td id=\"T_d8339a6a_61a3_11eb_817d_98fa9be2508brow9_col3\" class=\"data row9 col3\" >8</td>\n",
       "                        <td id=\"T_d8339a6a_61a3_11eb_817d_98fa9be2508brow9_col4\" class=\"data row9 col4\" >1</td>\n",
       "                        <td id=\"T_d8339a6a_61a3_11eb_817d_98fa9be2508brow9_col5\" class=\"data row9 col5\" >2</td>\n",
       "                        <td id=\"T_d8339a6a_61a3_11eb_817d_98fa9be2508brow9_col6\" class=\"data row9 col6\" >nan</td>\n",
       "                        <td id=\"T_d8339a6a_61a3_11eb_817d_98fa9be2508brow9_col7\" class=\"data row9 col7\" >6</td>\n",
       "                        <td id=\"T_d8339a6a_61a3_11eb_817d_98fa9be2508brow9_col8\" class=\"data row9 col8\" >10</td>\n",
       "                        <td id=\"T_d8339a6a_61a3_11eb_817d_98fa9be2508brow9_col9\" class=\"data row9 col9\" >1</td>\n",
       "                        <td id=\"T_d8339a6a_61a3_11eb_817d_98fa9be2508brow9_col10\" class=\"data row9 col10\" >4</td>\n",
       "            </tr>\n",
       "            <tr>\n",
       "                        <th id=\"T_d8339a6a_61a3_11eb_817d_98fa9be2508blevel0_row10\" class=\"row_heading level0 row10\" >294</th>\n",
       "                        <td id=\"T_d8339a6a_61a3_11eb_817d_98fa9be2508brow10_col0\" class=\"data row10 col0\" >606140</td>\n",
       "                        <td id=\"T_d8339a6a_61a3_11eb_817d_98fa9be2508brow10_col1\" class=\"data row10 col1\" >1</td>\n",
       "                        <td id=\"T_d8339a6a_61a3_11eb_817d_98fa9be2508brow10_col2\" class=\"data row10 col2\" >1</td>\n",
       "                        <td id=\"T_d8339a6a_61a3_11eb_817d_98fa9be2508brow10_col3\" class=\"data row10 col3\" >1</td>\n",
       "                        <td id=\"T_d8339a6a_61a3_11eb_817d_98fa9be2508brow10_col4\" class=\"data row10 col4\" >1</td>\n",
       "                        <td id=\"T_d8339a6a_61a3_11eb_817d_98fa9be2508brow10_col5\" class=\"data row10 col5\" >2</td>\n",
       "                        <td id=\"T_d8339a6a_61a3_11eb_817d_98fa9be2508brow10_col6\" class=\"data row10 col6\" >nan</td>\n",
       "                        <td id=\"T_d8339a6a_61a3_11eb_817d_98fa9be2508brow10_col7\" class=\"data row10 col7\" >2</td>\n",
       "                        <td id=\"T_d8339a6a_61a3_11eb_817d_98fa9be2508brow10_col8\" class=\"data row10 col8\" >1</td>\n",
       "                        <td id=\"T_d8339a6a_61a3_11eb_817d_98fa9be2508brow10_col9\" class=\"data row10 col9\" >1</td>\n",
       "                        <td id=\"T_d8339a6a_61a3_11eb_817d_98fa9be2508brow10_col10\" class=\"data row10 col10\" >2</td>\n",
       "            </tr>\n",
       "            <tr>\n",
       "                        <th id=\"T_d8339a6a_61a3_11eb_817d_98fa9be2508blevel0_row11\" class=\"row_heading level0 row11\" >297</th>\n",
       "                        <td id=\"T_d8339a6a_61a3_11eb_817d_98fa9be2508brow11_col0\" class=\"data row11 col0\" >61634</td>\n",
       "                        <td id=\"T_d8339a6a_61a3_11eb_817d_98fa9be2508brow11_col1\" class=\"data row11 col1\" >5</td>\n",
       "                        <td id=\"T_d8339a6a_61a3_11eb_817d_98fa9be2508brow11_col2\" class=\"data row11 col2\" >4</td>\n",
       "                        <td id=\"T_d8339a6a_61a3_11eb_817d_98fa9be2508brow11_col3\" class=\"data row11 col3\" >3</td>\n",
       "                        <td id=\"T_d8339a6a_61a3_11eb_817d_98fa9be2508brow11_col4\" class=\"data row11 col4\" >1</td>\n",
       "                        <td id=\"T_d8339a6a_61a3_11eb_817d_98fa9be2508brow11_col5\" class=\"data row11 col5\" >2</td>\n",
       "                        <td id=\"T_d8339a6a_61a3_11eb_817d_98fa9be2508brow11_col6\" class=\"data row11 col6\" >nan</td>\n",
       "                        <td id=\"T_d8339a6a_61a3_11eb_817d_98fa9be2508brow11_col7\" class=\"data row11 col7\" >2</td>\n",
       "                        <td id=\"T_d8339a6a_61a3_11eb_817d_98fa9be2508brow11_col8\" class=\"data row11 col8\" >3</td>\n",
       "                        <td id=\"T_d8339a6a_61a3_11eb_817d_98fa9be2508brow11_col9\" class=\"data row11 col9\" >1</td>\n",
       "                        <td id=\"T_d8339a6a_61a3_11eb_817d_98fa9be2508brow11_col10\" class=\"data row11 col10\" >2</td>\n",
       "            </tr>\n",
       "            <tr>\n",
       "                        <th id=\"T_d8339a6a_61a3_11eb_817d_98fa9be2508blevel0_row12\" class=\"row_heading level0 row12\" >315</th>\n",
       "                        <td id=\"T_d8339a6a_61a3_11eb_817d_98fa9be2508brow12_col0\" class=\"data row12 col0\" >704168</td>\n",
       "                        <td id=\"T_d8339a6a_61a3_11eb_817d_98fa9be2508brow12_col1\" class=\"data row12 col1\" >4</td>\n",
       "                        <td id=\"T_d8339a6a_61a3_11eb_817d_98fa9be2508brow12_col2\" class=\"data row12 col2\" >6</td>\n",
       "                        <td id=\"T_d8339a6a_61a3_11eb_817d_98fa9be2508brow12_col3\" class=\"data row12 col3\" >5</td>\n",
       "                        <td id=\"T_d8339a6a_61a3_11eb_817d_98fa9be2508brow12_col4\" class=\"data row12 col4\" >6</td>\n",
       "                        <td id=\"T_d8339a6a_61a3_11eb_817d_98fa9be2508brow12_col5\" class=\"data row12 col5\" >7</td>\n",
       "                        <td id=\"T_d8339a6a_61a3_11eb_817d_98fa9be2508brow12_col6\" class=\"data row12 col6\" >nan</td>\n",
       "                        <td id=\"T_d8339a6a_61a3_11eb_817d_98fa9be2508brow12_col7\" class=\"data row12 col7\" >4</td>\n",
       "                        <td id=\"T_d8339a6a_61a3_11eb_817d_98fa9be2508brow12_col8\" class=\"data row12 col8\" >9</td>\n",
       "                        <td id=\"T_d8339a6a_61a3_11eb_817d_98fa9be2508brow12_col9\" class=\"data row12 col9\" >1</td>\n",
       "                        <td id=\"T_d8339a6a_61a3_11eb_817d_98fa9be2508brow12_col10\" class=\"data row12 col10\" >2</td>\n",
       "            </tr>\n",
       "            <tr>\n",
       "                        <th id=\"T_d8339a6a_61a3_11eb_817d_98fa9be2508blevel0_row13\" class=\"row_heading level0 row13\" >321</th>\n",
       "                        <td id=\"T_d8339a6a_61a3_11eb_817d_98fa9be2508brow13_col0\" class=\"data row13 col0\" >733639</td>\n",
       "                        <td id=\"T_d8339a6a_61a3_11eb_817d_98fa9be2508brow13_col1\" class=\"data row13 col1\" >3</td>\n",
       "                        <td id=\"T_d8339a6a_61a3_11eb_817d_98fa9be2508brow13_col2\" class=\"data row13 col2\" >1</td>\n",
       "                        <td id=\"T_d8339a6a_61a3_11eb_817d_98fa9be2508brow13_col3\" class=\"data row13 col3\" >1</td>\n",
       "                        <td id=\"T_d8339a6a_61a3_11eb_817d_98fa9be2508brow13_col4\" class=\"data row13 col4\" >1</td>\n",
       "                        <td id=\"T_d8339a6a_61a3_11eb_817d_98fa9be2508brow13_col5\" class=\"data row13 col5\" >2</td>\n",
       "                        <td id=\"T_d8339a6a_61a3_11eb_817d_98fa9be2508brow13_col6\" class=\"data row13 col6\" >nan</td>\n",
       "                        <td id=\"T_d8339a6a_61a3_11eb_817d_98fa9be2508brow13_col7\" class=\"data row13 col7\" >3</td>\n",
       "                        <td id=\"T_d8339a6a_61a3_11eb_817d_98fa9be2508brow13_col8\" class=\"data row13 col8\" >1</td>\n",
       "                        <td id=\"T_d8339a6a_61a3_11eb_817d_98fa9be2508brow13_col9\" class=\"data row13 col9\" >1</td>\n",
       "                        <td id=\"T_d8339a6a_61a3_11eb_817d_98fa9be2508brow13_col10\" class=\"data row13 col10\" >2</td>\n",
       "            </tr>\n",
       "            <tr>\n",
       "                        <th id=\"T_d8339a6a_61a3_11eb_817d_98fa9be2508blevel0_row14\" class=\"row_heading level0 row14\" >411</th>\n",
       "                        <td id=\"T_d8339a6a_61a3_11eb_817d_98fa9be2508brow14_col0\" class=\"data row14 col0\" >1238464</td>\n",
       "                        <td id=\"T_d8339a6a_61a3_11eb_817d_98fa9be2508brow14_col1\" class=\"data row14 col1\" >1</td>\n",
       "                        <td id=\"T_d8339a6a_61a3_11eb_817d_98fa9be2508brow14_col2\" class=\"data row14 col2\" >1</td>\n",
       "                        <td id=\"T_d8339a6a_61a3_11eb_817d_98fa9be2508brow14_col3\" class=\"data row14 col3\" >1</td>\n",
       "                        <td id=\"T_d8339a6a_61a3_11eb_817d_98fa9be2508brow14_col4\" class=\"data row14 col4\" >1</td>\n",
       "                        <td id=\"T_d8339a6a_61a3_11eb_817d_98fa9be2508brow14_col5\" class=\"data row14 col5\" >1</td>\n",
       "                        <td id=\"T_d8339a6a_61a3_11eb_817d_98fa9be2508brow14_col6\" class=\"data row14 col6\" >nan</td>\n",
       "                        <td id=\"T_d8339a6a_61a3_11eb_817d_98fa9be2508brow14_col7\" class=\"data row14 col7\" >2</td>\n",
       "                        <td id=\"T_d8339a6a_61a3_11eb_817d_98fa9be2508brow14_col8\" class=\"data row14 col8\" >1</td>\n",
       "                        <td id=\"T_d8339a6a_61a3_11eb_817d_98fa9be2508brow14_col9\" class=\"data row14 col9\" >1</td>\n",
       "                        <td id=\"T_d8339a6a_61a3_11eb_817d_98fa9be2508brow14_col10\" class=\"data row14 col10\" >2</td>\n",
       "            </tr>\n",
       "            <tr>\n",
       "                        <th id=\"T_d8339a6a_61a3_11eb_817d_98fa9be2508blevel0_row15\" class=\"row_heading level0 row15\" >617</th>\n",
       "                        <td id=\"T_d8339a6a_61a3_11eb_817d_98fa9be2508brow15_col0\" class=\"data row15 col0\" >1057067</td>\n",
       "                        <td id=\"T_d8339a6a_61a3_11eb_817d_98fa9be2508brow15_col1\" class=\"data row15 col1\" >1</td>\n",
       "                        <td id=\"T_d8339a6a_61a3_11eb_817d_98fa9be2508brow15_col2\" class=\"data row15 col2\" >1</td>\n",
       "                        <td id=\"T_d8339a6a_61a3_11eb_817d_98fa9be2508brow15_col3\" class=\"data row15 col3\" >1</td>\n",
       "                        <td id=\"T_d8339a6a_61a3_11eb_817d_98fa9be2508brow15_col4\" class=\"data row15 col4\" >1</td>\n",
       "                        <td id=\"T_d8339a6a_61a3_11eb_817d_98fa9be2508brow15_col5\" class=\"data row15 col5\" >1</td>\n",
       "                        <td id=\"T_d8339a6a_61a3_11eb_817d_98fa9be2508brow15_col6\" class=\"data row15 col6\" >nan</td>\n",
       "                        <td id=\"T_d8339a6a_61a3_11eb_817d_98fa9be2508brow15_col7\" class=\"data row15 col7\" >1</td>\n",
       "                        <td id=\"T_d8339a6a_61a3_11eb_817d_98fa9be2508brow15_col8\" class=\"data row15 col8\" >1</td>\n",
       "                        <td id=\"T_d8339a6a_61a3_11eb_817d_98fa9be2508brow15_col9\" class=\"data row15 col9\" >1</td>\n",
       "                        <td id=\"T_d8339a6a_61a3_11eb_817d_98fa9be2508brow15_col10\" class=\"data row15 col10\" >2</td>\n",
       "            </tr>\n",
       "    </tbody></table>"
      ],
      "text/plain": [
       "<pandas.io.formats.style.Styler at 0x1648d7b8fa0>"
      ]
     },
     "metadata": {},
     "output_type": "display_data"
    },
    {
     "data": {
      "text/html": [
       "<style  type=\"text/css\" >\n",
       "</style><table id=\"T_d83a531e_61a3_11eb_9494_98fa9be2508b\" ><thead>    <tr>        <th class=\"blank level0\" ></th>        <th class=\"col_heading level0 col0\" >id_number</th>        <th class=\"col_heading level0 col1\" >Clump_Thickness</th>        <th class=\"col_heading level0 col2\" >Uniformity_Cell_Size</th>        <th class=\"col_heading level0 col3\" >Uniformity_Cell_Shape</th>        <th class=\"col_heading level0 col4\" >Marginal_Adhesion</th>        <th class=\"col_heading level0 col5\" >Single_Epithelial_Cell_Size</th>        <th class=\"col_heading level0 col6\" >Bare_Nuclei</th>        <th class=\"col_heading level0 col7\" >Bland_Chromatin</th>        <th class=\"col_heading level0 col8\" >Normal_Nucleoli</th>        <th class=\"col_heading level0 col9\" >Mitoses</th>        <th class=\"col_heading level0 col10\" >Class</th>    </tr></thead><tbody>\n",
       "                <tr>\n",
       "                        <th id=\"T_d83a531e_61a3_11eb_9494_98fa9be2508blevel0_row0\" class=\"row_heading level0 row0\" >23</th>\n",
       "                        <td id=\"T_d83a531e_61a3_11eb_9494_98fa9be2508brow0_col0\" class=\"data row0 col0\" >1057013</td>\n",
       "                        <td id=\"T_d83a531e_61a3_11eb_9494_98fa9be2508brow0_col1\" class=\"data row0 col1\" >8</td>\n",
       "                        <td id=\"T_d83a531e_61a3_11eb_9494_98fa9be2508brow0_col2\" class=\"data row0 col2\" >4</td>\n",
       "                        <td id=\"T_d83a531e_61a3_11eb_9494_98fa9be2508brow0_col3\" class=\"data row0 col3\" >5</td>\n",
       "                        <td id=\"T_d83a531e_61a3_11eb_9494_98fa9be2508brow0_col4\" class=\"data row0 col4\" >1</td>\n",
       "                        <td id=\"T_d83a531e_61a3_11eb_9494_98fa9be2508brow0_col5\" class=\"data row0 col5\" >2</td>\n",
       "                        <td id=\"T_d83a531e_61a3_11eb_9494_98fa9be2508brow0_col6\" class=\"data row0 col6\" >1.000000</td>\n",
       "                        <td id=\"T_d83a531e_61a3_11eb_9494_98fa9be2508brow0_col7\" class=\"data row0 col7\" >7</td>\n",
       "                        <td id=\"T_d83a531e_61a3_11eb_9494_98fa9be2508brow0_col8\" class=\"data row0 col8\" >3</td>\n",
       "                        <td id=\"T_d83a531e_61a3_11eb_9494_98fa9be2508brow0_col9\" class=\"data row0 col9\" >1</td>\n",
       "                        <td id=\"T_d83a531e_61a3_11eb_9494_98fa9be2508brow0_col10\" class=\"data row0 col10\" >4</td>\n",
       "            </tr>\n",
       "            <tr>\n",
       "                        <th id=\"T_d83a531e_61a3_11eb_9494_98fa9be2508blevel0_row1\" class=\"row_heading level0 row1\" >40</th>\n",
       "                        <td id=\"T_d83a531e_61a3_11eb_9494_98fa9be2508brow1_col0\" class=\"data row1 col0\" >1096800</td>\n",
       "                        <td id=\"T_d83a531e_61a3_11eb_9494_98fa9be2508brow1_col1\" class=\"data row1 col1\" >6</td>\n",
       "                        <td id=\"T_d83a531e_61a3_11eb_9494_98fa9be2508brow1_col2\" class=\"data row1 col2\" >6</td>\n",
       "                        <td id=\"T_d83a531e_61a3_11eb_9494_98fa9be2508brow1_col3\" class=\"data row1 col3\" >6</td>\n",
       "                        <td id=\"T_d83a531e_61a3_11eb_9494_98fa9be2508brow1_col4\" class=\"data row1 col4\" >9</td>\n",
       "                        <td id=\"T_d83a531e_61a3_11eb_9494_98fa9be2508brow1_col5\" class=\"data row1 col5\" >6</td>\n",
       "                        <td id=\"T_d83a531e_61a3_11eb_9494_98fa9be2508brow1_col6\" class=\"data row1 col6\" >1.000000</td>\n",
       "                        <td id=\"T_d83a531e_61a3_11eb_9494_98fa9be2508brow1_col7\" class=\"data row1 col7\" >7</td>\n",
       "                        <td id=\"T_d83a531e_61a3_11eb_9494_98fa9be2508brow1_col8\" class=\"data row1 col8\" >8</td>\n",
       "                        <td id=\"T_d83a531e_61a3_11eb_9494_98fa9be2508brow1_col9\" class=\"data row1 col9\" >1</td>\n",
       "                        <td id=\"T_d83a531e_61a3_11eb_9494_98fa9be2508brow1_col10\" class=\"data row1 col10\" >2</td>\n",
       "            </tr>\n",
       "            <tr>\n",
       "                        <th id=\"T_d83a531e_61a3_11eb_9494_98fa9be2508blevel0_row2\" class=\"row_heading level0 row2\" >139</th>\n",
       "                        <td id=\"T_d83a531e_61a3_11eb_9494_98fa9be2508brow2_col0\" class=\"data row2 col0\" >1183246</td>\n",
       "                        <td id=\"T_d83a531e_61a3_11eb_9494_98fa9be2508brow2_col1\" class=\"data row2 col1\" >1</td>\n",
       "                        <td id=\"T_d83a531e_61a3_11eb_9494_98fa9be2508brow2_col2\" class=\"data row2 col2\" >1</td>\n",
       "                        <td id=\"T_d83a531e_61a3_11eb_9494_98fa9be2508brow2_col3\" class=\"data row2 col3\" >1</td>\n",
       "                        <td id=\"T_d83a531e_61a3_11eb_9494_98fa9be2508brow2_col4\" class=\"data row2 col4\" >1</td>\n",
       "                        <td id=\"T_d83a531e_61a3_11eb_9494_98fa9be2508brow2_col5\" class=\"data row2 col5\" >1</td>\n",
       "                        <td id=\"T_d83a531e_61a3_11eb_9494_98fa9be2508brow2_col6\" class=\"data row2 col6\" >1.000000</td>\n",
       "                        <td id=\"T_d83a531e_61a3_11eb_9494_98fa9be2508brow2_col7\" class=\"data row2 col7\" >2</td>\n",
       "                        <td id=\"T_d83a531e_61a3_11eb_9494_98fa9be2508brow2_col8\" class=\"data row2 col8\" >1</td>\n",
       "                        <td id=\"T_d83a531e_61a3_11eb_9494_98fa9be2508brow2_col9\" class=\"data row2 col9\" >1</td>\n",
       "                        <td id=\"T_d83a531e_61a3_11eb_9494_98fa9be2508brow2_col10\" class=\"data row2 col10\" >2</td>\n",
       "            </tr>\n",
       "            <tr>\n",
       "                        <th id=\"T_d83a531e_61a3_11eb_9494_98fa9be2508blevel0_row3\" class=\"row_heading level0 row3\" >145</th>\n",
       "                        <td id=\"T_d83a531e_61a3_11eb_9494_98fa9be2508brow3_col0\" class=\"data row3 col0\" >1184840</td>\n",
       "                        <td id=\"T_d83a531e_61a3_11eb_9494_98fa9be2508brow3_col1\" class=\"data row3 col1\" >1</td>\n",
       "                        <td id=\"T_d83a531e_61a3_11eb_9494_98fa9be2508brow3_col2\" class=\"data row3 col2\" >1</td>\n",
       "                        <td id=\"T_d83a531e_61a3_11eb_9494_98fa9be2508brow3_col3\" class=\"data row3 col3\" >3</td>\n",
       "                        <td id=\"T_d83a531e_61a3_11eb_9494_98fa9be2508brow3_col4\" class=\"data row3 col4\" >1</td>\n",
       "                        <td id=\"T_d83a531e_61a3_11eb_9494_98fa9be2508brow3_col5\" class=\"data row3 col5\" >2</td>\n",
       "                        <td id=\"T_d83a531e_61a3_11eb_9494_98fa9be2508brow3_col6\" class=\"data row3 col6\" >1.000000</td>\n",
       "                        <td id=\"T_d83a531e_61a3_11eb_9494_98fa9be2508brow3_col7\" class=\"data row3 col7\" >2</td>\n",
       "                        <td id=\"T_d83a531e_61a3_11eb_9494_98fa9be2508brow3_col8\" class=\"data row3 col8\" >1</td>\n",
       "                        <td id=\"T_d83a531e_61a3_11eb_9494_98fa9be2508brow3_col9\" class=\"data row3 col9\" >1</td>\n",
       "                        <td id=\"T_d83a531e_61a3_11eb_9494_98fa9be2508brow3_col10\" class=\"data row3 col10\" >2</td>\n",
       "            </tr>\n",
       "            <tr>\n",
       "                        <th id=\"T_d83a531e_61a3_11eb_9494_98fa9be2508blevel0_row4\" class=\"row_heading level0 row4\" >158</th>\n",
       "                        <td id=\"T_d83a531e_61a3_11eb_9494_98fa9be2508brow4_col0\" class=\"data row4 col0\" >1193683</td>\n",
       "                        <td id=\"T_d83a531e_61a3_11eb_9494_98fa9be2508brow4_col1\" class=\"data row4 col1\" >1</td>\n",
       "                        <td id=\"T_d83a531e_61a3_11eb_9494_98fa9be2508brow4_col2\" class=\"data row4 col2\" >1</td>\n",
       "                        <td id=\"T_d83a531e_61a3_11eb_9494_98fa9be2508brow4_col3\" class=\"data row4 col3\" >2</td>\n",
       "                        <td id=\"T_d83a531e_61a3_11eb_9494_98fa9be2508brow4_col4\" class=\"data row4 col4\" >1</td>\n",
       "                        <td id=\"T_d83a531e_61a3_11eb_9494_98fa9be2508brow4_col5\" class=\"data row4 col5\" >3</td>\n",
       "                        <td id=\"T_d83a531e_61a3_11eb_9494_98fa9be2508brow4_col6\" class=\"data row4 col6\" >1.000000</td>\n",
       "                        <td id=\"T_d83a531e_61a3_11eb_9494_98fa9be2508brow4_col7\" class=\"data row4 col7\" >1</td>\n",
       "                        <td id=\"T_d83a531e_61a3_11eb_9494_98fa9be2508brow4_col8\" class=\"data row4 col8\" >1</td>\n",
       "                        <td id=\"T_d83a531e_61a3_11eb_9494_98fa9be2508brow4_col9\" class=\"data row4 col9\" >1</td>\n",
       "                        <td id=\"T_d83a531e_61a3_11eb_9494_98fa9be2508brow4_col10\" class=\"data row4 col10\" >2</td>\n",
       "            </tr>\n",
       "            <tr>\n",
       "                        <th id=\"T_d83a531e_61a3_11eb_9494_98fa9be2508blevel0_row5\" class=\"row_heading level0 row5\" >164</th>\n",
       "                        <td id=\"T_d83a531e_61a3_11eb_9494_98fa9be2508brow5_col0\" class=\"data row5 col0\" >1197510</td>\n",
       "                        <td id=\"T_d83a531e_61a3_11eb_9494_98fa9be2508brow5_col1\" class=\"data row5 col1\" >5</td>\n",
       "                        <td id=\"T_d83a531e_61a3_11eb_9494_98fa9be2508brow5_col2\" class=\"data row5 col2\" >1</td>\n",
       "                        <td id=\"T_d83a531e_61a3_11eb_9494_98fa9be2508brow5_col3\" class=\"data row5 col3\" >1</td>\n",
       "                        <td id=\"T_d83a531e_61a3_11eb_9494_98fa9be2508brow5_col4\" class=\"data row5 col4\" >1</td>\n",
       "                        <td id=\"T_d83a531e_61a3_11eb_9494_98fa9be2508brow5_col5\" class=\"data row5 col5\" >2</td>\n",
       "                        <td id=\"T_d83a531e_61a3_11eb_9494_98fa9be2508brow5_col6\" class=\"data row5 col6\" >1.000000</td>\n",
       "                        <td id=\"T_d83a531e_61a3_11eb_9494_98fa9be2508brow5_col7\" class=\"data row5 col7\" >3</td>\n",
       "                        <td id=\"T_d83a531e_61a3_11eb_9494_98fa9be2508brow5_col8\" class=\"data row5 col8\" >1</td>\n",
       "                        <td id=\"T_d83a531e_61a3_11eb_9494_98fa9be2508brow5_col9\" class=\"data row5 col9\" >1</td>\n",
       "                        <td id=\"T_d83a531e_61a3_11eb_9494_98fa9be2508brow5_col10\" class=\"data row5 col10\" >2</td>\n",
       "            </tr>\n",
       "            <tr>\n",
       "                        <th id=\"T_d83a531e_61a3_11eb_9494_98fa9be2508blevel0_row6\" class=\"row_heading level0 row6\" >235</th>\n",
       "                        <td id=\"T_d83a531e_61a3_11eb_9494_98fa9be2508brow6_col0\" class=\"data row6 col0\" >1241232</td>\n",
       "                        <td id=\"T_d83a531e_61a3_11eb_9494_98fa9be2508brow6_col1\" class=\"data row6 col1\" >3</td>\n",
       "                        <td id=\"T_d83a531e_61a3_11eb_9494_98fa9be2508brow6_col2\" class=\"data row6 col2\" >1</td>\n",
       "                        <td id=\"T_d83a531e_61a3_11eb_9494_98fa9be2508brow6_col3\" class=\"data row6 col3\" >4</td>\n",
       "                        <td id=\"T_d83a531e_61a3_11eb_9494_98fa9be2508brow6_col4\" class=\"data row6 col4\" >1</td>\n",
       "                        <td id=\"T_d83a531e_61a3_11eb_9494_98fa9be2508brow6_col5\" class=\"data row6 col5\" >2</td>\n",
       "                        <td id=\"T_d83a531e_61a3_11eb_9494_98fa9be2508brow6_col6\" class=\"data row6 col6\" >1.000000</td>\n",
       "                        <td id=\"T_d83a531e_61a3_11eb_9494_98fa9be2508brow6_col7\" class=\"data row6 col7\" >3</td>\n",
       "                        <td id=\"T_d83a531e_61a3_11eb_9494_98fa9be2508brow6_col8\" class=\"data row6 col8\" >1</td>\n",
       "                        <td id=\"T_d83a531e_61a3_11eb_9494_98fa9be2508brow6_col9\" class=\"data row6 col9\" >1</td>\n",
       "                        <td id=\"T_d83a531e_61a3_11eb_9494_98fa9be2508brow6_col10\" class=\"data row6 col10\" >2</td>\n",
       "            </tr>\n",
       "            <tr>\n",
       "                        <th id=\"T_d83a531e_61a3_11eb_9494_98fa9be2508blevel0_row7\" class=\"row_heading level0 row7\" >249</th>\n",
       "                        <td id=\"T_d83a531e_61a3_11eb_9494_98fa9be2508brow7_col0\" class=\"data row7 col0\" >169356</td>\n",
       "                        <td id=\"T_d83a531e_61a3_11eb_9494_98fa9be2508brow7_col1\" class=\"data row7 col1\" >3</td>\n",
       "                        <td id=\"T_d83a531e_61a3_11eb_9494_98fa9be2508brow7_col2\" class=\"data row7 col2\" >1</td>\n",
       "                        <td id=\"T_d83a531e_61a3_11eb_9494_98fa9be2508brow7_col3\" class=\"data row7 col3\" >1</td>\n",
       "                        <td id=\"T_d83a531e_61a3_11eb_9494_98fa9be2508brow7_col4\" class=\"data row7 col4\" >1</td>\n",
       "                        <td id=\"T_d83a531e_61a3_11eb_9494_98fa9be2508brow7_col5\" class=\"data row7 col5\" >2</td>\n",
       "                        <td id=\"T_d83a531e_61a3_11eb_9494_98fa9be2508brow7_col6\" class=\"data row7 col6\" >1.000000</td>\n",
       "                        <td id=\"T_d83a531e_61a3_11eb_9494_98fa9be2508brow7_col7\" class=\"data row7 col7\" >3</td>\n",
       "                        <td id=\"T_d83a531e_61a3_11eb_9494_98fa9be2508brow7_col8\" class=\"data row7 col8\" >1</td>\n",
       "                        <td id=\"T_d83a531e_61a3_11eb_9494_98fa9be2508brow7_col9\" class=\"data row7 col9\" >1</td>\n",
       "                        <td id=\"T_d83a531e_61a3_11eb_9494_98fa9be2508brow7_col10\" class=\"data row7 col10\" >2</td>\n",
       "            </tr>\n",
       "            <tr>\n",
       "                        <th id=\"T_d83a531e_61a3_11eb_9494_98fa9be2508blevel0_row8\" class=\"row_heading level0 row8\" >275</th>\n",
       "                        <td id=\"T_d83a531e_61a3_11eb_9494_98fa9be2508brow8_col0\" class=\"data row8 col0\" >432809</td>\n",
       "                        <td id=\"T_d83a531e_61a3_11eb_9494_98fa9be2508brow8_col1\" class=\"data row8 col1\" >3</td>\n",
       "                        <td id=\"T_d83a531e_61a3_11eb_9494_98fa9be2508brow8_col2\" class=\"data row8 col2\" >1</td>\n",
       "                        <td id=\"T_d83a531e_61a3_11eb_9494_98fa9be2508brow8_col3\" class=\"data row8 col3\" >3</td>\n",
       "                        <td id=\"T_d83a531e_61a3_11eb_9494_98fa9be2508brow8_col4\" class=\"data row8 col4\" >1</td>\n",
       "                        <td id=\"T_d83a531e_61a3_11eb_9494_98fa9be2508brow8_col5\" class=\"data row8 col5\" >2</td>\n",
       "                        <td id=\"T_d83a531e_61a3_11eb_9494_98fa9be2508brow8_col6\" class=\"data row8 col6\" >1.000000</td>\n",
       "                        <td id=\"T_d83a531e_61a3_11eb_9494_98fa9be2508brow8_col7\" class=\"data row8 col7\" >2</td>\n",
       "                        <td id=\"T_d83a531e_61a3_11eb_9494_98fa9be2508brow8_col8\" class=\"data row8 col8\" >1</td>\n",
       "                        <td id=\"T_d83a531e_61a3_11eb_9494_98fa9be2508brow8_col9\" class=\"data row8 col9\" >1</td>\n",
       "                        <td id=\"T_d83a531e_61a3_11eb_9494_98fa9be2508brow8_col10\" class=\"data row8 col10\" >2</td>\n",
       "            </tr>\n",
       "            <tr>\n",
       "                        <th id=\"T_d83a531e_61a3_11eb_9494_98fa9be2508blevel0_row9\" class=\"row_heading level0 row9\" >292</th>\n",
       "                        <td id=\"T_d83a531e_61a3_11eb_9494_98fa9be2508brow9_col0\" class=\"data row9 col0\" >563649</td>\n",
       "                        <td id=\"T_d83a531e_61a3_11eb_9494_98fa9be2508brow9_col1\" class=\"data row9 col1\" >8</td>\n",
       "                        <td id=\"T_d83a531e_61a3_11eb_9494_98fa9be2508brow9_col2\" class=\"data row9 col2\" >8</td>\n",
       "                        <td id=\"T_d83a531e_61a3_11eb_9494_98fa9be2508brow9_col3\" class=\"data row9 col3\" >8</td>\n",
       "                        <td id=\"T_d83a531e_61a3_11eb_9494_98fa9be2508brow9_col4\" class=\"data row9 col4\" >1</td>\n",
       "                        <td id=\"T_d83a531e_61a3_11eb_9494_98fa9be2508brow9_col5\" class=\"data row9 col5\" >2</td>\n",
       "                        <td id=\"T_d83a531e_61a3_11eb_9494_98fa9be2508brow9_col6\" class=\"data row9 col6\" >1.000000</td>\n",
       "                        <td id=\"T_d83a531e_61a3_11eb_9494_98fa9be2508brow9_col7\" class=\"data row9 col7\" >6</td>\n",
       "                        <td id=\"T_d83a531e_61a3_11eb_9494_98fa9be2508brow9_col8\" class=\"data row9 col8\" >10</td>\n",
       "                        <td id=\"T_d83a531e_61a3_11eb_9494_98fa9be2508brow9_col9\" class=\"data row9 col9\" >1</td>\n",
       "                        <td id=\"T_d83a531e_61a3_11eb_9494_98fa9be2508brow9_col10\" class=\"data row9 col10\" >4</td>\n",
       "            </tr>\n",
       "            <tr>\n",
       "                        <th id=\"T_d83a531e_61a3_11eb_9494_98fa9be2508blevel0_row10\" class=\"row_heading level0 row10\" >294</th>\n",
       "                        <td id=\"T_d83a531e_61a3_11eb_9494_98fa9be2508brow10_col0\" class=\"data row10 col0\" >606140</td>\n",
       "                        <td id=\"T_d83a531e_61a3_11eb_9494_98fa9be2508brow10_col1\" class=\"data row10 col1\" >1</td>\n",
       "                        <td id=\"T_d83a531e_61a3_11eb_9494_98fa9be2508brow10_col2\" class=\"data row10 col2\" >1</td>\n",
       "                        <td id=\"T_d83a531e_61a3_11eb_9494_98fa9be2508brow10_col3\" class=\"data row10 col3\" >1</td>\n",
       "                        <td id=\"T_d83a531e_61a3_11eb_9494_98fa9be2508brow10_col4\" class=\"data row10 col4\" >1</td>\n",
       "                        <td id=\"T_d83a531e_61a3_11eb_9494_98fa9be2508brow10_col5\" class=\"data row10 col5\" >2</td>\n",
       "                        <td id=\"T_d83a531e_61a3_11eb_9494_98fa9be2508brow10_col6\" class=\"data row10 col6\" >1.000000</td>\n",
       "                        <td id=\"T_d83a531e_61a3_11eb_9494_98fa9be2508brow10_col7\" class=\"data row10 col7\" >2</td>\n",
       "                        <td id=\"T_d83a531e_61a3_11eb_9494_98fa9be2508brow10_col8\" class=\"data row10 col8\" >1</td>\n",
       "                        <td id=\"T_d83a531e_61a3_11eb_9494_98fa9be2508brow10_col9\" class=\"data row10 col9\" >1</td>\n",
       "                        <td id=\"T_d83a531e_61a3_11eb_9494_98fa9be2508brow10_col10\" class=\"data row10 col10\" >2</td>\n",
       "            </tr>\n",
       "            <tr>\n",
       "                        <th id=\"T_d83a531e_61a3_11eb_9494_98fa9be2508blevel0_row11\" class=\"row_heading level0 row11\" >297</th>\n",
       "                        <td id=\"T_d83a531e_61a3_11eb_9494_98fa9be2508brow11_col0\" class=\"data row11 col0\" >61634</td>\n",
       "                        <td id=\"T_d83a531e_61a3_11eb_9494_98fa9be2508brow11_col1\" class=\"data row11 col1\" >5</td>\n",
       "                        <td id=\"T_d83a531e_61a3_11eb_9494_98fa9be2508brow11_col2\" class=\"data row11 col2\" >4</td>\n",
       "                        <td id=\"T_d83a531e_61a3_11eb_9494_98fa9be2508brow11_col3\" class=\"data row11 col3\" >3</td>\n",
       "                        <td id=\"T_d83a531e_61a3_11eb_9494_98fa9be2508brow11_col4\" class=\"data row11 col4\" >1</td>\n",
       "                        <td id=\"T_d83a531e_61a3_11eb_9494_98fa9be2508brow11_col5\" class=\"data row11 col5\" >2</td>\n",
       "                        <td id=\"T_d83a531e_61a3_11eb_9494_98fa9be2508brow11_col6\" class=\"data row11 col6\" >1.000000</td>\n",
       "                        <td id=\"T_d83a531e_61a3_11eb_9494_98fa9be2508brow11_col7\" class=\"data row11 col7\" >2</td>\n",
       "                        <td id=\"T_d83a531e_61a3_11eb_9494_98fa9be2508brow11_col8\" class=\"data row11 col8\" >3</td>\n",
       "                        <td id=\"T_d83a531e_61a3_11eb_9494_98fa9be2508brow11_col9\" class=\"data row11 col9\" >1</td>\n",
       "                        <td id=\"T_d83a531e_61a3_11eb_9494_98fa9be2508brow11_col10\" class=\"data row11 col10\" >2</td>\n",
       "            </tr>\n",
       "            <tr>\n",
       "                        <th id=\"T_d83a531e_61a3_11eb_9494_98fa9be2508blevel0_row12\" class=\"row_heading level0 row12\" >315</th>\n",
       "                        <td id=\"T_d83a531e_61a3_11eb_9494_98fa9be2508brow12_col0\" class=\"data row12 col0\" >704168</td>\n",
       "                        <td id=\"T_d83a531e_61a3_11eb_9494_98fa9be2508brow12_col1\" class=\"data row12 col1\" >4</td>\n",
       "                        <td id=\"T_d83a531e_61a3_11eb_9494_98fa9be2508brow12_col2\" class=\"data row12 col2\" >6</td>\n",
       "                        <td id=\"T_d83a531e_61a3_11eb_9494_98fa9be2508brow12_col3\" class=\"data row12 col3\" >5</td>\n",
       "                        <td id=\"T_d83a531e_61a3_11eb_9494_98fa9be2508brow12_col4\" class=\"data row12 col4\" >6</td>\n",
       "                        <td id=\"T_d83a531e_61a3_11eb_9494_98fa9be2508brow12_col5\" class=\"data row12 col5\" >7</td>\n",
       "                        <td id=\"T_d83a531e_61a3_11eb_9494_98fa9be2508brow12_col6\" class=\"data row12 col6\" >1.000000</td>\n",
       "                        <td id=\"T_d83a531e_61a3_11eb_9494_98fa9be2508brow12_col7\" class=\"data row12 col7\" >4</td>\n",
       "                        <td id=\"T_d83a531e_61a3_11eb_9494_98fa9be2508brow12_col8\" class=\"data row12 col8\" >9</td>\n",
       "                        <td id=\"T_d83a531e_61a3_11eb_9494_98fa9be2508brow12_col9\" class=\"data row12 col9\" >1</td>\n",
       "                        <td id=\"T_d83a531e_61a3_11eb_9494_98fa9be2508brow12_col10\" class=\"data row12 col10\" >2</td>\n",
       "            </tr>\n",
       "            <tr>\n",
       "                        <th id=\"T_d83a531e_61a3_11eb_9494_98fa9be2508blevel0_row13\" class=\"row_heading level0 row13\" >321</th>\n",
       "                        <td id=\"T_d83a531e_61a3_11eb_9494_98fa9be2508brow13_col0\" class=\"data row13 col0\" >733639</td>\n",
       "                        <td id=\"T_d83a531e_61a3_11eb_9494_98fa9be2508brow13_col1\" class=\"data row13 col1\" >3</td>\n",
       "                        <td id=\"T_d83a531e_61a3_11eb_9494_98fa9be2508brow13_col2\" class=\"data row13 col2\" >1</td>\n",
       "                        <td id=\"T_d83a531e_61a3_11eb_9494_98fa9be2508brow13_col3\" class=\"data row13 col3\" >1</td>\n",
       "                        <td id=\"T_d83a531e_61a3_11eb_9494_98fa9be2508brow13_col4\" class=\"data row13 col4\" >1</td>\n",
       "                        <td id=\"T_d83a531e_61a3_11eb_9494_98fa9be2508brow13_col5\" class=\"data row13 col5\" >2</td>\n",
       "                        <td id=\"T_d83a531e_61a3_11eb_9494_98fa9be2508brow13_col6\" class=\"data row13 col6\" >1.000000</td>\n",
       "                        <td id=\"T_d83a531e_61a3_11eb_9494_98fa9be2508brow13_col7\" class=\"data row13 col7\" >3</td>\n",
       "                        <td id=\"T_d83a531e_61a3_11eb_9494_98fa9be2508brow13_col8\" class=\"data row13 col8\" >1</td>\n",
       "                        <td id=\"T_d83a531e_61a3_11eb_9494_98fa9be2508brow13_col9\" class=\"data row13 col9\" >1</td>\n",
       "                        <td id=\"T_d83a531e_61a3_11eb_9494_98fa9be2508brow13_col10\" class=\"data row13 col10\" >2</td>\n",
       "            </tr>\n",
       "            <tr>\n",
       "                        <th id=\"T_d83a531e_61a3_11eb_9494_98fa9be2508blevel0_row14\" class=\"row_heading level0 row14\" >411</th>\n",
       "                        <td id=\"T_d83a531e_61a3_11eb_9494_98fa9be2508brow14_col0\" class=\"data row14 col0\" >1238464</td>\n",
       "                        <td id=\"T_d83a531e_61a3_11eb_9494_98fa9be2508brow14_col1\" class=\"data row14 col1\" >1</td>\n",
       "                        <td id=\"T_d83a531e_61a3_11eb_9494_98fa9be2508brow14_col2\" class=\"data row14 col2\" >1</td>\n",
       "                        <td id=\"T_d83a531e_61a3_11eb_9494_98fa9be2508brow14_col3\" class=\"data row14 col3\" >1</td>\n",
       "                        <td id=\"T_d83a531e_61a3_11eb_9494_98fa9be2508brow14_col4\" class=\"data row14 col4\" >1</td>\n",
       "                        <td id=\"T_d83a531e_61a3_11eb_9494_98fa9be2508brow14_col5\" class=\"data row14 col5\" >1</td>\n",
       "                        <td id=\"T_d83a531e_61a3_11eb_9494_98fa9be2508brow14_col6\" class=\"data row14 col6\" >1.000000</td>\n",
       "                        <td id=\"T_d83a531e_61a3_11eb_9494_98fa9be2508brow14_col7\" class=\"data row14 col7\" >2</td>\n",
       "                        <td id=\"T_d83a531e_61a3_11eb_9494_98fa9be2508brow14_col8\" class=\"data row14 col8\" >1</td>\n",
       "                        <td id=\"T_d83a531e_61a3_11eb_9494_98fa9be2508brow14_col9\" class=\"data row14 col9\" >1</td>\n",
       "                        <td id=\"T_d83a531e_61a3_11eb_9494_98fa9be2508brow14_col10\" class=\"data row14 col10\" >2</td>\n",
       "            </tr>\n",
       "            <tr>\n",
       "                        <th id=\"T_d83a531e_61a3_11eb_9494_98fa9be2508blevel0_row15\" class=\"row_heading level0 row15\" >617</th>\n",
       "                        <td id=\"T_d83a531e_61a3_11eb_9494_98fa9be2508brow15_col0\" class=\"data row15 col0\" >1057067</td>\n",
       "                        <td id=\"T_d83a531e_61a3_11eb_9494_98fa9be2508brow15_col1\" class=\"data row15 col1\" >1</td>\n",
       "                        <td id=\"T_d83a531e_61a3_11eb_9494_98fa9be2508brow15_col2\" class=\"data row15 col2\" >1</td>\n",
       "                        <td id=\"T_d83a531e_61a3_11eb_9494_98fa9be2508brow15_col3\" class=\"data row15 col3\" >1</td>\n",
       "                        <td id=\"T_d83a531e_61a3_11eb_9494_98fa9be2508brow15_col4\" class=\"data row15 col4\" >1</td>\n",
       "                        <td id=\"T_d83a531e_61a3_11eb_9494_98fa9be2508brow15_col5\" class=\"data row15 col5\" >1</td>\n",
       "                        <td id=\"T_d83a531e_61a3_11eb_9494_98fa9be2508brow15_col6\" class=\"data row15 col6\" >1.000000</td>\n",
       "                        <td id=\"T_d83a531e_61a3_11eb_9494_98fa9be2508brow15_col7\" class=\"data row15 col7\" >1</td>\n",
       "                        <td id=\"T_d83a531e_61a3_11eb_9494_98fa9be2508brow15_col8\" class=\"data row15 col8\" >1</td>\n",
       "                        <td id=\"T_d83a531e_61a3_11eb_9494_98fa9be2508brow15_col9\" class=\"data row15 col9\" >1</td>\n",
       "                        <td id=\"T_d83a531e_61a3_11eb_9494_98fa9be2508brow15_col10\" class=\"data row15 col10\" >2</td>\n",
       "            </tr>\n",
       "    </tbody></table>"
      ],
      "text/plain": [
       "<pandas.io.formats.style.Styler at 0x1648d7b80a0>"
      ]
     },
     "metadata": {},
     "output_type": "display_data"
    }
   ],
   "source": [
    "display(df1.iloc[NaN_Rows_Ids,:].style.highlight_null('yellow'))\n",
    "display(df1ImputeMediane.iloc[NaN_Rows_Ids,:].style.highlight_null('yellow'))"
   ]
  },
  {
   "cell_type": "markdown",
   "metadata": {},
   "source": [
    "## 3.\tDévelopper la matrice de correlation. Interpréter vos résultats."
   ]
  },
  {
   "cell_type": "markdown",
   "metadata": {},
   "source": [
    "### Looking for Correlations"
   ]
  },
  {
   "cell_type": "code",
   "execution_count": 116,
   "metadata": {},
   "outputs": [],
   "source": [
    "corr_matrix = df1.corr().round(1)\n"
   ]
  },
  {
   "cell_type": "code",
   "execution_count": 117,
   "metadata": {
    "scrolled": true
   },
   "outputs": [
    {
     "data": {
      "text/plain": [
       "Class                          1.0\n",
       "Bland_Chromatin                0.8\n",
       "Bare_Nuclei                    0.8\n",
       "Uniformity_Cell_Shape          0.8\n",
       "Uniformity_Cell_Size           0.8\n",
       "Normal_Nucleoli                0.7\n",
       "Single_Epithelial_Cell_Size    0.7\n",
       "Marginal_Adhesion              0.7\n",
       "Clump_Thickness                0.7\n",
       "Mitoses                        0.4\n",
       "id_number                     -0.1\n",
       "Name: Class, dtype: float64"
      ]
     },
     "execution_count": 117,
     "metadata": {},
     "output_type": "execute_result"
    }
   ],
   "source": [
    "corr_matrix[\"Class\"].sort_values(ascending=False)"
   ]
  },
  {
   "cell_type": "markdown",
   "metadata": {},
   "source": [
    "Como se puede observar en los resultsados antes expuesto, todas las variables tienen alta correlacion con la variable Class (variable to be predecided), excepto las variables Mitoses y el id_number."
   ]
  },
  {
   "cell_type": "code",
   "execution_count": 118,
   "metadata": {
    "scrolled": true
   },
   "outputs": [
    {
     "data": {
      "text/plain": [
       "<matplotlib.axes._subplots.AxesSubplot at 0x1648d7b82b0>"
      ]
     },
     "execution_count": 118,
     "metadata": {},
     "output_type": "execute_result"
    },
    {
     "data": {
      "image/png": "[encoded data removed]",
      "text/plain": [
       "<Figure size 432x288 with 2 Axes>"
      ]
     },
     "metadata": {
      "needs_background": "light"
     },
     "output_type": "display_data"
    }
   ],
   "source": [
    "sns.heatmap(data = corr_matrix, annot = True)"
   ]
  },
  {
   "cell_type": "markdown",
   "metadata": {},
   "source": [
    "## 4.\tProcéder à la séparation train/test (80-20) de votre dataset original (seed 44)"
   ]
  },
  {
   "cell_type": "markdown",
   "metadata": {},
   "source": [
    "### Prepare the Data for Machine Learning Algorithms"
   ]
  },
  {
   "cell_type": "code",
   "execution_count": 119,
   "metadata": {},
   "outputs": [],
   "source": [
    "train = df1.drop(\"Class\", axis=1)\n",
    "test = df[\"Class\"].copy()"
   ]
  },
  {
   "cell_type": "markdown",
   "metadata": {},
   "source": [
    "### Select and Train a Model"
   ]
  },
  {
   "cell_type": "code",
   "execution_count": 120,
   "metadata": {},
   "outputs": [],
   "source": [
    "from sklearn.model_selection import train_test_split\n",
    "# Break down predictive data into training / testing\n",
    "\n",
    "X_train, X_test, y_train, y_test = \\\n",
    "train_test_split(train, test, test_size = 0.20, random_state = 44)"
   ]
  },
  {
   "cell_type": "code",
   "execution_count": 121,
   "metadata": {},
   "outputs": [
    {
     "name": "stdout",
     "output_type": "stream",
     "text": [
      "(559, 10) (140, 10) (559,) (140,)\n"
     ]
    }
   ],
   "source": [
    "print(X_train.shape,X_test.shape,y_train.shape,y_test.shape)"
   ]
  },
  {
   "cell_type": "markdown",
   "metadata": {},
   "source": [
    "## 5.\tDévelopper le modèle en laissant la valeur par défaut de K."
   ]
  },
  {
   "cell_type": "markdown",
   "metadata": {},
   "source": [
    "## KNN model development"
   ]
  },
  {
   "cell_type": "code",
   "execution_count": 122,
   "metadata": {},
   "outputs": [
    {
     "ename": "ValueError",
     "evalue": "Input contains NaN, infinity or a value too large for dtype('float64').",
     "output_type": "error",
     "traceback": [
      "\u001b[1;31m---------------------------------------------------------------------------\u001b[0m",
      "\u001b[1;31mValueError\u001b[0m                                Traceback (most recent call last)",
      "\u001b[1;32m<ipython-input-122-7d910d5e65d3>\u001b[0m in \u001b[0;36m<module>\u001b[1;34m\u001b[0m\n\u001b[0;32m      3\u001b[0m \u001b[0mneigh\u001b[0m \u001b[1;33m=\u001b[0m \u001b[0mKNeighborsClassifier\u001b[0m\u001b[1;33m(\u001b[0m\u001b[1;33m)\u001b[0m\u001b[1;33m\u001b[0m\u001b[1;33m\u001b[0m\u001b[0m\n\u001b[0;32m      4\u001b[0m \u001b[1;33m\u001b[0m\u001b[0m\n\u001b[1;32m----> 5\u001b[1;33m \u001b[0mneigh\u001b[0m\u001b[1;33m.\u001b[0m\u001b[0mfit\u001b[0m\u001b[1;33m(\u001b[0m\u001b[0mX_train\u001b[0m\u001b[1;33m,\u001b[0m\u001b[0my_train\u001b[0m\u001b[1;33m)\u001b[0m\u001b[1;33m\u001b[0m\u001b[1;33m\u001b[0m\u001b[0m\n\u001b[0m",
      "\u001b[1;32mC:\\ProgramData\\Anaconda3\\lib\\site-packages\\sklearn\\neighbors\\_base.py\u001b[0m in \u001b[0;36mfit\u001b[1;34m(self, X, y)\u001b[0m\n\u001b[0;32m   1129\u001b[0m         \"\"\"\n\u001b[0;32m   1130\u001b[0m         \u001b[1;32mif\u001b[0m \u001b[1;32mnot\u001b[0m \u001b[0misinstance\u001b[0m\u001b[1;33m(\u001b[0m\u001b[0mX\u001b[0m\u001b[1;33m,\u001b[0m \u001b[1;33m(\u001b[0m\u001b[0mKDTree\u001b[0m\u001b[1;33m,\u001b[0m \u001b[0mBallTree\u001b[0m\u001b[1;33m)\u001b[0m\u001b[1;33m)\u001b[0m\u001b[1;33m:\u001b[0m\u001b[1;33m\u001b[0m\u001b[1;33m\u001b[0m\u001b[0m\n\u001b[1;32m-> 1131\u001b[1;33m             X, y = self._validate_data(X, y, accept_sparse=\"csr\",\n\u001b[0m\u001b[0;32m   1132\u001b[0m                                        multi_output=True)\n\u001b[0;32m   1133\u001b[0m \u001b[1;33m\u001b[0m\u001b[0m\n",
      "\u001b[1;32mC:\\ProgramData\\Anaconda3\\lib\\site-packages\\sklearn\\base.py\u001b[0m in \u001b[0;36m_validate_data\u001b[1;34m(self, X, y, reset, validate_separately, **check_params)\u001b[0m\n\u001b[0;32m    430\u001b[0m                 \u001b[0my\u001b[0m \u001b[1;33m=\u001b[0m \u001b[0mcheck_array\u001b[0m\u001b[1;33m(\u001b[0m\u001b[0my\u001b[0m\u001b[1;33m,\u001b[0m \u001b[1;33m**\u001b[0m\u001b[0mcheck_y_params\u001b[0m\u001b[1;33m)\u001b[0m\u001b[1;33m\u001b[0m\u001b[1;33m\u001b[0m\u001b[0m\n\u001b[0;32m    431\u001b[0m             \u001b[1;32melse\u001b[0m\u001b[1;33m:\u001b[0m\u001b[1;33m\u001b[0m\u001b[1;33m\u001b[0m\u001b[0m\n\u001b[1;32m--> 432\u001b[1;33m                 \u001b[0mX\u001b[0m\u001b[1;33m,\u001b[0m \u001b[0my\u001b[0m \u001b[1;33m=\u001b[0m \u001b[0mcheck_X_y\u001b[0m\u001b[1;33m(\u001b[0m\u001b[0mX\u001b[0m\u001b[1;33m,\u001b[0m \u001b[0my\u001b[0m\u001b[1;33m,\u001b[0m \u001b[1;33m**\u001b[0m\u001b[0mcheck_params\u001b[0m\u001b[1;33m)\u001b[0m\u001b[1;33m\u001b[0m\u001b[1;33m\u001b[0m\u001b[0m\n\u001b[0m\u001b[0;32m    433\u001b[0m             \u001b[0mout\u001b[0m \u001b[1;33m=\u001b[0m \u001b[0mX\u001b[0m\u001b[1;33m,\u001b[0m \u001b[0my\u001b[0m\u001b[1;33m\u001b[0m\u001b[1;33m\u001b[0m\u001b[0m\n\u001b[0;32m    434\u001b[0m \u001b[1;33m\u001b[0m\u001b[0m\n",
      "\u001b[1;32mC:\\ProgramData\\Anaconda3\\lib\\site-packages\\sklearn\\utils\\validation.py\u001b[0m in \u001b[0;36minner_f\u001b[1;34m(*args, **kwargs)\u001b[0m\n\u001b[0;32m     71\u001b[0m                           FutureWarning)\n\u001b[0;32m     72\u001b[0m         \u001b[0mkwargs\u001b[0m\u001b[1;33m.\u001b[0m\u001b[0mupdate\u001b[0m\u001b[1;33m(\u001b[0m\u001b[1;33m{\u001b[0m\u001b[0mk\u001b[0m\u001b[1;33m:\u001b[0m \u001b[0marg\u001b[0m \u001b[1;32mfor\u001b[0m \u001b[0mk\u001b[0m\u001b[1;33m,\u001b[0m \u001b[0marg\u001b[0m \u001b[1;32min\u001b[0m \u001b[0mzip\u001b[0m\u001b[1;33m(\u001b[0m\u001b[0msig\u001b[0m\u001b[1;33m.\u001b[0m\u001b[0mparameters\u001b[0m\u001b[1;33m,\u001b[0m \u001b[0margs\u001b[0m\u001b[1;33m)\u001b[0m\u001b[1;33m}\u001b[0m\u001b[1;33m)\u001b[0m\u001b[1;33m\u001b[0m\u001b[1;33m\u001b[0m\u001b[0m\n\u001b[1;32m---> 73\u001b[1;33m         \u001b[1;32mreturn\u001b[0m \u001b[0mf\u001b[0m\u001b[1;33m(\u001b[0m\u001b[1;33m**\u001b[0m\u001b[0mkwargs\u001b[0m\u001b[1;33m)\u001b[0m\u001b[1;33m\u001b[0m\u001b[1;33m\u001b[0m\u001b[0m\n\u001b[0m\u001b[0;32m     74\u001b[0m     \u001b[1;32mreturn\u001b[0m \u001b[0minner_f\u001b[0m\u001b[1;33m\u001b[0m\u001b[1;33m\u001b[0m\u001b[0m\n\u001b[0;32m     75\u001b[0m \u001b[1;33m\u001b[0m\u001b[0m\n",
      "\u001b[1;32mC:\\ProgramData\\Anaconda3\\lib\\site-packages\\sklearn\\utils\\validation.py\u001b[0m in \u001b[0;36mcheck_X_y\u001b[1;34m(X, y, accept_sparse, accept_large_sparse, dtype, order, copy, force_all_finite, ensure_2d, allow_nd, multi_output, ensure_min_samples, ensure_min_features, y_numeric, estimator)\u001b[0m\n\u001b[0;32m    794\u001b[0m         \u001b[1;32mraise\u001b[0m \u001b[0mValueError\u001b[0m\u001b[1;33m(\u001b[0m\u001b[1;34m\"y cannot be None\"\u001b[0m\u001b[1;33m)\u001b[0m\u001b[1;33m\u001b[0m\u001b[1;33m\u001b[0m\u001b[0m\n\u001b[0;32m    795\u001b[0m \u001b[1;33m\u001b[0m\u001b[0m\n\u001b[1;32m--> 796\u001b[1;33m     X = check_array(X, accept_sparse=accept_sparse,\n\u001b[0m\u001b[0;32m    797\u001b[0m                     \u001b[0maccept_large_sparse\u001b[0m\u001b[1;33m=\u001b[0m\u001b[0maccept_large_sparse\u001b[0m\u001b[1;33m,\u001b[0m\u001b[1;33m\u001b[0m\u001b[1;33m\u001b[0m\u001b[0m\n\u001b[0;32m    798\u001b[0m                     \u001b[0mdtype\u001b[0m\u001b[1;33m=\u001b[0m\u001b[0mdtype\u001b[0m\u001b[1;33m,\u001b[0m \u001b[0morder\u001b[0m\u001b[1;33m=\u001b[0m\u001b[0morder\u001b[0m\u001b[1;33m,\u001b[0m \u001b[0mcopy\u001b[0m\u001b[1;33m=\u001b[0m\u001b[0mcopy\u001b[0m\u001b[1;33m,\u001b[0m\u001b[1;33m\u001b[0m\u001b[1;33m\u001b[0m\u001b[0m\n",
      "\u001b[1;32mC:\\ProgramData\\Anaconda3\\lib\\site-packages\\sklearn\\utils\\validation.py\u001b[0m in \u001b[0;36minner_f\u001b[1;34m(*args, **kwargs)\u001b[0m\n\u001b[0;32m     71\u001b[0m                           FutureWarning)\n\u001b[0;32m     72\u001b[0m         \u001b[0mkwargs\u001b[0m\u001b[1;33m.\u001b[0m\u001b[0mupdate\u001b[0m\u001b[1;33m(\u001b[0m\u001b[1;33m{\u001b[0m\u001b[0mk\u001b[0m\u001b[1;33m:\u001b[0m \u001b[0marg\u001b[0m \u001b[1;32mfor\u001b[0m \u001b[0mk\u001b[0m\u001b[1;33m,\u001b[0m \u001b[0marg\u001b[0m \u001b[1;32min\u001b[0m \u001b[0mzip\u001b[0m\u001b[1;33m(\u001b[0m\u001b[0msig\u001b[0m\u001b[1;33m.\u001b[0m\u001b[0mparameters\u001b[0m\u001b[1;33m,\u001b[0m \u001b[0margs\u001b[0m\u001b[1;33m)\u001b[0m\u001b[1;33m}\u001b[0m\u001b[1;33m)\u001b[0m\u001b[1;33m\u001b[0m\u001b[1;33m\u001b[0m\u001b[0m\n\u001b[1;32m---> 73\u001b[1;33m         \u001b[1;32mreturn\u001b[0m \u001b[0mf\u001b[0m\u001b[1;33m(\u001b[0m\u001b[1;33m**\u001b[0m\u001b[0mkwargs\u001b[0m\u001b[1;33m)\u001b[0m\u001b[1;33m\u001b[0m\u001b[1;33m\u001b[0m\u001b[0m\n\u001b[0m\u001b[0;32m     74\u001b[0m     \u001b[1;32mreturn\u001b[0m \u001b[0minner_f\u001b[0m\u001b[1;33m\u001b[0m\u001b[1;33m\u001b[0m\u001b[0m\n\u001b[0;32m     75\u001b[0m \u001b[1;33m\u001b[0m\u001b[0m\n",
      "\u001b[1;32mC:\\ProgramData\\Anaconda3\\lib\\site-packages\\sklearn\\utils\\validation.py\u001b[0m in \u001b[0;36mcheck_array\u001b[1;34m(array, accept_sparse, accept_large_sparse, dtype, order, copy, force_all_finite, ensure_2d, allow_nd, ensure_min_samples, ensure_min_features, estimator)\u001b[0m\n\u001b[0;32m    643\u001b[0m \u001b[1;33m\u001b[0m\u001b[0m\n\u001b[0;32m    644\u001b[0m         \u001b[1;32mif\u001b[0m \u001b[0mforce_all_finite\u001b[0m\u001b[1;33m:\u001b[0m\u001b[1;33m\u001b[0m\u001b[1;33m\u001b[0m\u001b[0m\n\u001b[1;32m--> 645\u001b[1;33m             _assert_all_finite(array,\n\u001b[0m\u001b[0;32m    646\u001b[0m                                allow_nan=force_all_finite == 'allow-nan')\n\u001b[0;32m    647\u001b[0m \u001b[1;33m\u001b[0m\u001b[0m\n",
      "\u001b[1;32mC:\\ProgramData\\Anaconda3\\lib\\site-packages\\sklearn\\utils\\validation.py\u001b[0m in \u001b[0;36m_assert_all_finite\u001b[1;34m(X, allow_nan, msg_dtype)\u001b[0m\n\u001b[0;32m     95\u001b[0m                 not allow_nan and not np.isfinite(X).all()):\n\u001b[0;32m     96\u001b[0m             \u001b[0mtype_err\u001b[0m \u001b[1;33m=\u001b[0m \u001b[1;34m'infinity'\u001b[0m \u001b[1;32mif\u001b[0m \u001b[0mallow_nan\u001b[0m \u001b[1;32melse\u001b[0m \u001b[1;34m'NaN, infinity'\u001b[0m\u001b[1;33m\u001b[0m\u001b[1;33m\u001b[0m\u001b[0m\n\u001b[1;32m---> 97\u001b[1;33m             raise ValueError(\n\u001b[0m\u001b[0;32m     98\u001b[0m                     \u001b[0mmsg_err\u001b[0m\u001b[1;33m.\u001b[0m\u001b[0mformat\u001b[0m\u001b[1;33m\u001b[0m\u001b[1;33m\u001b[0m\u001b[0m\n\u001b[0;32m     99\u001b[0m                     (type_err,\n",
      "\u001b[1;31mValueError\u001b[0m: Input contains NaN, infinity or a value too large for dtype('float64')."
     ]
    }
   ],
   "source": [
    "from sklearn.neighbors import KNeighborsClassifier\n",
    "\n",
    "neigh = KNeighborsClassifier()\n",
    "\n",
    "neigh.fit(X_train,y_train)"
   ]
  },
  {
   "cell_type": "code",
   "execution_count": null,
   "metadata": {},
   "outputs": [],
   "source": []
  },
  {
   "cell_type": "code",
   "execution_count": null,
   "metadata": {},
   "outputs": [],
   "source": []
  },
  {
   "cell_type": "code",
   "execution_count": null,
   "metadata": {},
   "outputs": [],
   "source": []
  },
  {
   "cell_type": "code",
   "execution_count": null,
   "metadata": {},
   "outputs": [],
   "source": []
  },
  {
   "cell_type": "code",
   "execution_count": null,
   "metadata": {},
   "outputs": [],
   "source": []
  },
  {
   "cell_type": "code",
   "execution_count": null,
   "metadata": {},
   "outputs": [],
   "source": []
  },
  {
   "cell_type": "code",
   "execution_count": null,
   "metadata": {},
   "outputs": [],
   "source": []
  },
  {
   "cell_type": "code",
   "execution_count": null,
   "metadata": {},
   "outputs": [],
   "source": []
  },
  {
   "cell_type": "code",
   "execution_count": null,
   "metadata": {},
   "outputs": [],
   "source": []
  }
 ],
 "metadata": {
  "kernelspec": {
   "display_name": "Python 3",
   "language": "python",
   "name": "python3"
  },
  "language_info": {
   "codemirror_mode": {
    "name": "ipython",
    "version": 3
   },
   "file_extension": ".py",
   "mimetype": "text/x-python",
   "name": "python",
   "nbconvert_exporter": "python",
   "pygments_lexer": "ipython3",
   "version": "3.8.3"
  }
 },
 "nbformat": 4,
 "nbformat_minor": 4
}
