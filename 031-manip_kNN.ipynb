{
 "cells": [
  {
   "cell_type": "markdown",
   "metadata": {},
   "source": [
    "# Classification avec k-neighbors "
   ]
  },
  {
   "cell_type": "markdown",
   "metadata": {},
   "source": [
    "## Chargement du dataset"
   ]
  },
  {
   "cell_type": "code",
   "execution_count": 4,
   "metadata": {},
   "outputs": [],
   "source": [
    "import numpy as np\n",
    "import pylab as pl\n",
    "from matplotlib.colors import ListedColormap\n",
    "from sklearn import neighbors, datasets\n",
    "\n",
    "\n",
    "# charger les données du dataset iris\n",
    "\n",
    "iris = datasets.load_iris()"
   ]
  },
  {
   "cell_type": "markdown",
   "metadata": {},
   "source": [
    "2. Dans la deuxième étape, on procède à l'exploration des données. Les dimensions du dataset iris sont affichées comme suit"
   ]
  },
  {
   "cell_type": "markdown",
   "metadata": {},
   "source": [
    "## Shape des données"
   ]
  },
  {
   "cell_type": "code",
   "execution_count": 5,
   "metadata": {},
   "outputs": [
    {
     "name": "stdout",
     "output_type": "stream",
     "text": [
      "(150, 4)\n",
      "(150,)\n"
     ]
    }
   ],
   "source": [
    "# data represent les predicteurs et target la cible a predire\n",
    "\n",
    "print(iris.data.shape)\n",
    "print(iris.target.shape)\n",
    "\n"
   ]
  },
  {
   "cell_type": "markdown",
   "metadata": {},
   "source": [
    "3.\tOn sélectionne tous les prédicteurs du dataset existant iris comme montré ci-dessous"
   ]
  },
  {
   "cell_type": "markdown",
   "metadata": {},
   "source": [
    "## Selection de feature-prédicteurs"
   ]
  },
  {
   "cell_type": "code",
   "execution_count": 6,
   "metadata": {},
   "outputs": [],
   "source": [
    "# On prend en compte tous les predicteurs\n",
    "\n",
    "X = iris.data\n",
    "# On considere aussi la clase a predire/determiner\n",
    "\n",
    "y = iris.target"
   ]
  },
  {
   "cell_type": "markdown",
   "metadata": {},
   "source": [
    "4. On décompose maintenant le dataset en ensemble d'apprentissage et test avec une séparation de 75%, soit"
   ]
  },
  {
   "cell_type": "markdown",
   "metadata": {},
   "source": [
    "## Décomposition en apprentissage/test (training/test)"
   ]
  },
  {
   "cell_type": "code",
   "execution_count": 7,
   "metadata": {},
   "outputs": [],
   "source": [
    "from sklearn.model_selection import train_test_split\n",
    "# Décomposer les données prédicteurs en training/testing\n",
    "\n",
    "X_train, X_test, y_train, y_test = \\\n",
    "train_test_split(iris.data, iris.target, test_size = 0.25, random_state = 33)"
   ]
  },
  {
   "cell_type": "markdown",
   "metadata": {},
   "source": [
    "ce qui donne pour les deux ensembles les résultats suivants:"
   ]
  },
  {
   "cell_type": "code",
   "execution_count": 8,
   "metadata": {},
   "outputs": [
    {
     "name": "stdout",
     "output_type": "stream",
     "text": [
      "(112, 4) (38, 4) (112,) (38,)\n"
     ]
    }
   ],
   "source": [
    "print(X_train.shape,X_test.shape,y_train.shape,y_test.shape)"
   ]
  },
  {
   "cell_type": "markdown",
   "metadata": {},
   "source": [
    "5.\tOn procède maintenant à l'instantiation du modèle KNN comme suit:"
   ]
  },
  {
   "cell_type": "markdown",
   "metadata": {},
   "source": [
    "## Developper le modele k-nearest neightbor"
   ]
  },
  {
   "cell_type": "markdown",
   "metadata": {},
   "source": [
    "- Choisir une valuer pour k\n",
    "- Trouver les voisins k dans l'ensemble d'apprentissage qui soit le plus proche\n",
    "- Prendre une distance wuclidianne comme la mesure dedistance entre les instances\n",
    "- Une fois que les k voisins soient trouvers, prendre la classe la plus populaire"
   ]
  },
  {
   "cell_type": "markdown",
   "metadata": {},
   "source": [
    "Le code nécessaire pour le modèle est alors:"
   ]
  },
  {
   "cell_type": "code",
   "execution_count": null,
   "metadata": {},
   "outputs": [],
   "source": [
    "# Creer l'objet Neighbours Classifier\n",
    "# On considere KNN avec ponderation uniforme\n",
    "weights = 'uniform'\n",
    "k_neighbors = 15\n",
    "clf = neighbors.KNeighborsClassifier(k_neighbors,weights = weights)"
   ]
  },
  {
   "cell_type": "markdown",
   "metadata": {},
   "source": [
    "Dans ce cas, on voit que les poids des coefficients sont choisis de manière uniforme et k=15. Vous aurez à tester l'algorithme avec k=1 pour vérifier la performance de votre algorithme dans une autre manipulation."
   ]
  },
  {
   "cell_type": "markdown",
   "metadata": {},
   "source": [
    "## Proceder a l'apprentissage du modele"
   ]
  },
  {
   "cell_type": "code",
   "execution_count": null,
   "metadata": {},
   "outputs": [],
   "source": [
    "# Faire apprendre le model en utilisant les training set\n",
    "\n",
    "clf.fit(X_train,y_train)"
   ]
  },
  {
   "cell_type": "markdown",
   "metadata": {},
   "source": [
    "On constate que la distance critère par défaut est \"minkowski\"\n",
    "\n",
    "6.  On évalue maintenant la performance de l’algorithme utilisé comme suit en utilisant l'echantillon  d'apprentissage, soit X_train\n",
    "\n"
   ]
  },
  {
   "cell_type": "markdown",
   "metadata": {},
   "source": [
    "## Prediction avec le model obtenu"
   ]
  },
  {
   "cell_type": "code",
   "execution_count": null,
   "metadata": {},
   "outputs": [],
   "source": [
    "# Prendre la classe pour toutes les observations dans X_train\n",
    "\n",
    "Z = clf.predict(X_train)\n",
    "\n",
    "print(Z.shape)\n",
    "\n",
    "# Comparer les classe predictes avec les vrais labels de la classe\n",
    "\n",
    "accurancy = clf.score(X_train, y_train)\n",
    "\n",
    "print(\"Accurancy du model predit:\",str(accurancy))"
   ]
  },
  {
   "cell_type": "markdown",
   "metadata": {},
   "source": [
    "7.  On évalue maintenant la performance de l’algorithme utilisé comme suit en utilisant l'echantillon  test, soit X_test"
   ]
  },
  {
   "cell_type": "code",
   "execution_count": null,
   "metadata": {},
   "outputs": [],
   "source": [
    "# Make classe predictio for all observations in X test\n",
    "\n",
    "Z = clf.predict(X_test)\n",
    "\n",
    "print(Z.shape)\n",
    "# Compared predicted class labels with actual class labels\n",
    "\n",
    "accurancy = clf.score(X_test,y_test)\n",
    "print(\"Accurancy du model predit sur le test:\",str(accurancy))"
   ]
  },
  {
   "cell_type": "markdown",
   "metadata": {},
   "source": [
    "8.  On évalue maintenant la performance de l’algorithme utilisé comme suit en utilisant un echantillon out-of-sample"
   ]
  },
  {
   "cell_type": "code",
   "execution_count": null,
   "metadata": {},
   "outputs": [],
   "source": [
    "# Utilisation pour prediction d'un echantillon out-of-sample\n",
    "\n",
    "ech = [[3,5,4,2],[5,4,3,2]]\n",
    "Z = clf.predict(ech)\n",
    "print(Z.shape)\n",
    "print(Z)"
   ]
  },
  {
   "cell_type": "markdown",
   "metadata": {},
   "source": [
    "De ce fait, la classe cible pour chacun des deux échantillons est 1. Il suffit d'évaluer le dataset iris pour relier la classe 1 à la vraie espèce d'iris."
   ]
  },
  {
   "cell_type": "markdown",
   "metadata": {},
   "source": [
    "## Manipulation 2:   Évaluation de la performance de l'algorithme kNN avec différentes valeurs de k"
   ]
  },
  {
   "cell_type": "code",
   "execution_count": 11,
   "metadata": {},
   "outputs": [],
   "source": [
    "# Créer un objet Neighbours Classifier\n",
    "\n",
    "# On considere KNN avec ponderation uniforme\n",
    "\n",
    "weights = 'uniform'\n",
    "k_neighbors = 15\n",
    "\n",
    "clf = neighbors.KNeighborsClassifier(k_neighbors,weights = weights)"
   ]
  },
  {
   "cell_type": "markdown",
   "metadata": {},
   "source": [
    "2. On procède à l'apprentissage du modèle comme d'habitude"
   ]
  },
  {
   "cell_type": "markdown",
   "metadata": {},
   "source": [
    "## Procéder à l'apprentissage du modèle"
   ]
  },
  {
   "cell_type": "code",
   "execution_count": 12,
   "metadata": {},
   "outputs": [
    {
     "data": {
      "text/plain": [
       "KNeighborsClassifier(n_neighbors=15)"
      ]
     },
     "execution_count": 12,
     "metadata": {},
     "output_type": "execute_result"
    }
   ],
   "source": [
    "# faire apprendre le modele en utilisant le training set\n",
    "\n",
    "clf.fit(X,y)"
   ]
  },
  {
   "cell_type": "markdown",
   "metadata": {},
   "source": [
    "On évalue ensuite le score accuracy"
   ]
  },
  {
   "cell_type": "markdown",
   "metadata": {},
   "source": [
    "## Prédiction avec le modèle obtenu"
   ]
  },
  {
   "cell_type": "code",
   "execution_count": 16,
   "metadata": {},
   "outputs": [
    {
     "name": "stdout",
     "output_type": "stream",
     "text": [
      "(150,)\n",
      "Accuracy du modèle prédict 0.9866666666666667\n"
     ]
    }
   ],
   "source": [
    "# Faire une prédiction de classe pour toutes les observations dans X\n",
    "\n",
    "y_knn = clf.predict(X)\n",
    "\n",
    "print(y_knn.shape)\n",
    "\n",
    "# comparer les labels de la classe predict avec les vrais labels de la classe\n",
    "\n",
    "from sklearn import metrics\n",
    "\n",
    "accuracy_knn = metrics.accuracy_score(y,y_knn)\n",
    "\n",
    "print(\"Accuracy du modèle prédict \" + str(accuracy_knn))"
   ]
  },
  {
   "cell_type": "markdown",
   "metadata": {},
   "source": [
    "On détermine l'accuracy pour l'approche logistic regression, ce qui donne:"
   ]
  },
  {
   "cell_type": "markdown",
   "metadata": {},
   "source": [
    "## Utiliser logistic regression pour comparaison"
   ]
  },
  {
   "cell_type": "code",
   "execution_count": 24,
   "metadata": {},
   "outputs": [
    {
     "name": "stdout",
     "output_type": "stream",
     "text": [
      "Accuracy du modèle prédict 0.9733333333333334\n"
     ]
    },
    {
     "name": "stderr",
     "output_type": "stream",
     "text": [
      "C:\\ProgramData\\Anaconda3\\lib\\site-packages\\sklearn\\linear_model\\_logistic.py:762: ConvergenceWarning: lbfgs failed to converge (status=1):\n",
      "STOP: TOTAL NO. of ITERATIONS REACHED LIMIT.\n",
      "\n",
      "Increase the number of iterations (max_iter) or scale the data as shown in:\n",
      "    https://scikit-learn.org/stable/modules/preprocessing.html\n",
      "Please also refer to the documentation for alternative solver options:\n",
      "    https://scikit-learn.org/stable/modules/linear_model.html#logistic-regression\n",
      "  n_iter_i = _check_optimize_result(\n"
     ]
    }
   ],
   "source": [
    "from sklearn.linear_model import LogisticRegression\n",
    "\n",
    "clf_logr = LogisticRegression()\n",
    "clf_logr.fit(X,y)\n",
    "\n",
    "y_logR = clf_logr.predict(X)\n",
    "accuracy_logR = metrics.accuracy_score(y,y_logR)\n",
    "print('Accuracy du modèle prédict '+ str(accuracy_logR))"
   ]
  },
  {
   "cell_type": "markdown",
   "metadata": {},
   "source": [
    "On constate que pour les paramètres actuels, l'algorithme KNN performe mieux que l'algorithme logistic regression."
   ]
  },
  {
   "cell_type": "markdown",
   "metadata": {},
   "source": [
    "On évalue maintenant la performance avec un split du dataset en échantillon d'apprentissage et test avec coupure à 80%"
   ]
  },
  {
   "cell_type": "code",
   "execution_count": 28,
   "metadata": {},
   "outputs": [],
   "source": [
    "from sklearn.model_selection import train_test_split\n",
    "\n",
    "X_train, X_test, y_train, y_test = train_test_split(X,y, test_size = 0.2,random_state = 42)"
   ]
  },
  {
   "cell_type": "markdown",
   "metadata": {},
   "source": [
    "On refait le même calcul d'accuracy et on aura pour les deux algorithmes"
   ]
  },
  {
   "cell_type": "code",
   "execution_count": 36,
   "metadata": {},
   "outputs": [
    {
     "name": "stdout",
     "output_type": "stream",
     "text": [
      "Accuracy du modele KNN predict  1.0\n",
      "Accuracy du modele KNN predict  1.0\n"
     ]
    },
    {
     "name": "stderr",
     "output_type": "stream",
     "text": [
      "C:\\ProgramData\\Anaconda3\\lib\\site-packages\\sklearn\\linear_model\\_logistic.py:762: ConvergenceWarning: lbfgs failed to converge (status=1):\n",
      "STOP: TOTAL NO. of ITERATIONS REACHED LIMIT.\n",
      "\n",
      "Increase the number of iterations (max_iter) or scale the data as shown in:\n",
      "    https://scikit-learn.org/stable/modules/preprocessing.html\n",
      "Please also refer to the documentation for alternative solver options:\n",
      "    https://scikit-learn.org/stable/modules/linear_model.html#logistic-regression\n",
      "  n_iter_i = _check_optimize_result(\n"
     ]
    }
   ],
   "source": [
    "# knn\n",
    "\n",
    "clf.fit(X_train,y_train)\n",
    "y_knn = clf.predict(X_test)\n",
    "\n",
    "accuracy_knn = metrics.accuracy_score(y_test,y_knn)\n",
    "print('Accuracy du modele KNN predict ',str(accuracy_knn))\n",
    "\n",
    "\n",
    "#logR\n",
    "\n",
    "clf_logr.fit(X_train,y_train)\n",
    "y_logr = clf_logr.predict(X_test)\n",
    "accuracy_logr = metrics.accuracy_score(y_test,y_logr)\n",
    "print('Accuracy du modele KNN predict ',str(accuracy_logr))\n"
   ]
  },
  {
   "cell_type": "code",
   "execution_count": 37,
   "metadata": {},
   "outputs": [],
   "source": [
    "## Determiner accurancy pour k varaiables\n",
    "\n",
    "# k 1 à k 30\n",
    "\n",
    "k_range = range(1,26)\n",
    "scores = []\n",
    "for k in k_range:\n",
    "    knn = neighbors.KNeighborsClassifier(n_neighbors = k)\n",
    "    knn.fit(X_train,y_train)\n",
    "    y_pred = knn.predict(X_test)\n",
    "    scores.append(metrics.accuracy_score(y_test,y_pred))"
   ]
  },
  {
   "cell_type": "code",
   "execution_count": 39,
   "metadata": {},
   "outputs": [
    {
     "data": {
      "text/plain": [
       "Text(0, 0.5, 'Testing Accuracy')"
      ]
     },
     "execution_count": 39,
     "metadata": {},
     "output_type": "execute_result"
    },
    {
     "data": {
      "image/png": "[encoded data removed]",
      "text/plain": [
       "<Figure size 432x288 with 1 Axes>"
      ]
     },
     "metadata": {
      "needs_background": "light"
     },
     "output_type": "display_data"
    }
   ],
   "source": [
    "# Tracer le graphe\n",
    "\n",
    "import matplotlib.pyplot as plt\n",
    "\n",
    "%matplotlib inline\n",
    "\n",
    "# plot de k vs testing accuracy\n",
    "\n",
    "plt.plot(k_range,scores)\n",
    "plt.xlabel('Valeur de k pour KNN')\n",
    "plt.ylabel('Testing Accuracy')"
   ]
  },
  {
   "cell_type": "code",
   "execution_count": null,
   "metadata": {},
   "outputs": [],
   "source": []
  },
  {
   "cell_type": "code",
   "execution_count": null,
   "metadata": {},
   "outputs": [],
   "source": []
  }
 ],
 "metadata": {
  "kernelspec": {
   "display_name": "Python 3",
   "language": "python",
   "name": "python3"
  },
  "language_info": {
   "codemirror_mode": {
    "name": "ipython",
    "version": 3
   },
   "file_extension": ".py",
   "mimetype": "text/x-python",
   "name": "python",
   "nbconvert_exporter": "python",
   "pygments_lexer": "ipython3",
   "version": "3.8.3"
  }
 },
 "nbformat": 4,
 "nbformat_minor": 4
}
